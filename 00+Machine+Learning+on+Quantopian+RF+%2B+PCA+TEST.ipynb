{
 "cells": [
  {
   "cell_type": "code",
   "execution_count": 1,
   "metadata": {
    "collapsed": false
   },
   "outputs": [],
   "source": [
    "# the sourse of code go from https://www.quantopian.com/posts/machine-learning-on-quantopian\n",
    "\n",
    "# import libraries\n",
    "from quantopian.research import run_pipeline\n",
    "from quantopian.pipeline import Pipeline\n",
    "from quantopian.pipeline.factors import Latest\n",
    "from quantopian.pipeline.data.builtin import USEquityPricing\n",
    "from quantopian.pipeline.data import morningstar\n",
    "from quantopian.pipeline.factors import CustomFactor, SimpleMovingAverage, AverageDollarVolume, Returns, RSI\n",
    "from quantopian.pipeline.classifiers.morningstar import Sector\n",
    "from quantopian.pipeline.filters import Q500US, Q1500US\n",
    "from quantopian.pipeline.data.quandl import fred_usdontd156n as libor\n",
    "from quantopian.pipeline.data.zacks import EarningsSurprises\n",
    "\n",
    "import talib\n",
    "import pandas as pd\n",
    "import numpy as np\n",
    "from time import time\n",
    "\n",
    "import alphalens as al\n",
    "import pyfolio as pf\n",
    "from scipy import stats\n",
    "import matplotlib.pyplot as plt\n",
    "import seaborn as sns\n",
    "from sklearn import linear_model, decomposition, ensemble, preprocessing, isotonic, metrics"
   ]
  },
  {
   "cell_type": "code",
   "execution_count": 2,
   "metadata": {
    "collapsed": false
   },
   "outputs": [],
   "source": [
    "#definition of factors\n",
    "bs = morningstar.balance_sheet\n",
    "cfs = morningstar.cash_flow_statement\n",
    "is_ = morningstar.income_statement\n",
    "or_ = morningstar.operation_ratios\n",
    "er = morningstar.earnings_report\n",
    "v = morningstar.valuation\n",
    "vr = morningstar.valuation_ratios\n",
    "\n",
    "\n",
    "def make_factors():\n",
    "    def Asset_Growth_3M():\n",
    "        return Returns(inputs=[bs.total_assets], window_length=63)\n",
    "\n",
    "    def Asset_To_Equity_Ratio():\n",
    "        return bs.total_assets.latest / bs.common_stock_equity.latest\n",
    "\n",
    "    def Capex_To_Cashflows():\n",
    "        return (cfs.capital_expenditure.latest * 4.) / \\\n",
    "            (cfs.free_cash_flow.latest * 4.)\n",
    "        \n",
    "    def EBITDA_Yield():\n",
    "        return (is_.ebitda.latest * 4.) / \\\n",
    "            USEquityPricing.close.latest        \n",
    "\n",
    "    def EBIT_To_Assets():\n",
    "        return (is_.ebit.latest * 4.) / \\\n",
    "            bs.total_assets.latest\n",
    "        \n",
    "    def Earnings_Quality():\n",
    "        return morningstar.cash_flow_statement.operating_cash_flow.latest / \\\n",
    "               EarningsSurprises.eps_act.latest\n",
    "        \n",
    "    def Return_On_Total_Invest_Capital():\n",
    "        return or_.roic.latest\n",
    "    \n",
    "    class Mean_Reversion_1M(CustomFactor):\n",
    "        inputs = [Returns(window_length=21)]\n",
    "        window_length = 252\n",
    "\n",
    "        def compute(self, today, assets, out, monthly_rets):\n",
    "            out[:] = (monthly_rets[-1] - np.nanmean(monthly_rets, axis=0)) / \\\n",
    "                np.nanstd(monthly_rets, axis=0)\n",
    "                \n",
    "    class MACD_Signal_10d(CustomFactor):\n",
    "        inputs = [USEquityPricing.close]\n",
    "        window_length = 60\n",
    "\n",
    "        def compute(self, today, assets, out, close):\n",
    "\n",
    "            sig_lines = []\n",
    "\n",
    "            for col in close.T:\n",
    "                # get signal line only\n",
    "                try:\n",
    "                    _, signal_line, _ = talib.MACD(col, fastperiod=12,\n",
    "                                                   slowperiod=26, signalperiod=10)\n",
    "                    sig_lines.append(signal_line[-1])\n",
    "                # if error calculating, return NaN\n",
    "                except:\n",
    "                    sig_lines.append(np.nan)\n",
    "            out[:] = sig_lines \n",
    "            \n",
    "    class Moneyflow_Volume_5d(CustomFactor):\n",
    "        inputs = [USEquityPricing.close, USEquityPricing.volume]\n",
    "        window_length = 5\n",
    "\n",
    "        def compute(self, today, assets, out, close, volume):\n",
    "\n",
    "            mfvs = []\n",
    "\n",
    "            for col_c, col_v in zip(close.T, volume.T):\n",
    "\n",
    "                # denominator\n",
    "                denominator = np.dot(col_c, col_v)\n",
    "\n",
    "                # numerator\n",
    "                numerator = 0.\n",
    "                for n, price in enumerate(col_c.tolist()):\n",
    "                    if price > col_c[n - 1]:\n",
    "                        numerator += price * col_v[n]\n",
    "                    else:\n",
    "                        numerator -= price * col_v[n]\n",
    "\n",
    "                mfvs.append(numerator / denominator)\n",
    "            out[:] = mfvs  \n",
    "            \n",
    "           \n",
    "    def Net_Income_Margin():\n",
    "        return or_.net_margin.latest           \n",
    "\n",
    "    def Operating_Cashflows_To_Assets():\n",
    "        return (cfs.operating_cash_flow.latest * 4.) / \\\n",
    "            bs.total_assets.latest\n",
    "\n",
    "    def Price_Momentum_3M():\n",
    "        return Returns(window_length=63)\n",
    "    \n",
    "    class Price_Oscillator(CustomFactor):\n",
    "        inputs = [USEquityPricing.close]\n",
    "        window_length = 252\n",
    "\n",
    "        def compute(self, today, assets, out, close):\n",
    "            four_week_period = close[-20:]\n",
    "            out[:] = (np.nanmean(four_week_period, axis=0) /\n",
    "                      np.nanmean(close, axis=0)) - 1.\n",
    "    \n",
    "    def Returns_39W():\n",
    "        return Returns(window_length=215)\n",
    "    \n",
    "    class Trendline(CustomFactor):\n",
    "        inputs = [USEquityPricing.close]\n",
    "        window_length = 252\n",
    "\n",
    "        # using MLE for speed\n",
    "        def compute(self, today, assets, out, close):\n",
    "\n",
    "            # prepare X matrix (x_is - x_bar)\n",
    "            X = range(self.window_length)\n",
    "            X_bar = np.nanmean(X)\n",
    "            X_vector = X - X_bar\n",
    "            X_matrix = np.tile(X_vector, (len(close.T), 1)).T\n",
    "\n",
    "            # prepare Y matrix (y_is - y_bar)\n",
    "            Y_bar = np.nanmean(close, axis=0)\n",
    "            Y_bars = np.tile(Y_bar, (self.window_length, 1))\n",
    "            Y_matrix = close - Y_bars\n",
    "\n",
    "            # prepare variance of X\n",
    "            X_var = np.nanvar(X)\n",
    "\n",
    "            # multiply X matrix an Y matrix and sum (dot product)\n",
    "            # then divide by variance of X\n",
    "            # this gives the MLE of Beta\n",
    "            out[:] = (np.sum((X_matrix * Y_matrix), axis=0) / X_var) / \\\n",
    "                (self.window_length)\n",
    "        \n",
    "    class Vol_3M(CustomFactor):\n",
    "        inputs = [Returns(window_length=2)]\n",
    "        window_length = 63\n",
    "\n",
    "        def compute(self, today, assets, out, rets):\n",
    "            out[:] = np.nanstd(rets, axis=0)\n",
    "            \n",
    "    def Working_Capital_To_Assets():\n",
    "        return bs.working_capital.latest / bs.total_assets.latest   \n",
    "        \n",
    "    all_factors = {\n",
    "        'Asset Growth 3M': Asset_Growth_3M,\n",
    "        'Asset to Equity Ratio': Asset_To_Equity_Ratio,\n",
    "        'Capex to Cashflows': Capex_To_Cashflows,\n",
    "        'EBIT to Assets': EBIT_To_Assets,\n",
    "        'EBITDA Yield': EBITDA_Yield,        \n",
    "        #'Earnings Quality': Earnings_Quality,\n",
    "        'MACD Signal Line': MACD_Signal_10d,\n",
    "        'Mean Reversion 1M': Mean_Reversion_1M,\n",
    "        'Moneyflow Volume 5D': Moneyflow_Volume_5d,\n",
    "        'Net Income Margin': Net_Income_Margin,        \n",
    "        'Operating Cashflows to Assets': Operating_Cashflows_To_Assets,\n",
    "        'Price Momentum 3M': Price_Momentum_3M,\n",
    "        'Price Oscillator': Price_Oscillator,\n",
    "        'Return on Invest Capital': Return_On_Total_Invest_Capital,\n",
    "        '39 Week Returns': Returns_39W,\n",
    "        'Trendline': Trendline,\n",
    "        'Vol 3M': Vol_3M,\n",
    "        'Working Capital to Assets': Working_Capital_To_Assets,        \n",
    "    }        \n",
    "    \n",
    "    return all_factors\n",
    "factors = make_factors()"
   ]
  },
  {
   "cell_type": "code",
   "execution_count": 3,
   "metadata": {
    "collapsed": false
   },
   "outputs": [],
   "source": [
    "universe = Q500US() # Define universe and select factors to use\n",
    "n_fwd_days = 5 # number of days to compute returns over"
   ]
  },
  {
   "cell_type": "markdown",
   "metadata": {},
   "source": [
    "Differently to source I changed rank to zscore!  "
   ]
  },
  {
   "cell_type": "code",
   "execution_count": 4,
   "metadata": {
    "collapsed": false
   },
   "outputs": [],
   "source": [
    "# Define and build the pipeline\n",
    "def make_history_pipeline(factors, universe, n_fwd_days=5):\n",
    "    # Call .rank() on all factors and mask out the universe\n",
    "    factor_zscore = {name: f().zscore(mask=universe) for name, f in factors.iteritems()}\n",
    "    # Get cumulative returns over last n_fwd_days days. We will later shift these.\n",
    "    factor_zscore['Returns'] = Returns(inputs=[USEquityPricing.open],\n",
    "                                      mask=universe, window_length=n_fwd_days)\n",
    "    \n",
    "    # Add many returns as factors\n",
    "    for i in [2,3,4,5,10,20,30,60,100,250]:\n",
    "        factor_zscore ['Return'+str(i)] = Returns(inputs=[USEquityPricing.open],\n",
    "                                      mask=universe, window_length=i)    \n",
    "    \n",
    "    #factor_zscore['SPY']=Returns(inputs=[USEquityPricing.open('SPY')] )\n",
    "    \n",
    "    pipe = Pipeline(screen=universe, columns=factor_zscore)\n",
    "    \n",
    "    return pipe\n",
    "history_pipe = make_history_pipeline(factors, universe, n_fwd_days=n_fwd_days)"
   ]
  },
  {
   "cell_type": "code",
   "execution_count": 5,
   "metadata": {
    "collapsed": false
   },
   "outputs": [],
   "source": [
    "# Because of problem with  time when taken a lot of data divide time to periods\n",
    "end_full = pd.Timestamp(\"2017-08-07\")\n",
    "period = pd.DateOffset(200)\n",
    "number_of_periods = 5\n",
    "results=pd.DataFrame()\n",
    "start = end_full-number_of_periods*(period)-(number_of_periods-1)*pd.DateOffset(1)"
   ]
  },
  {
   "cell_type": "code",
   "execution_count": 6,
   "metadata": {
    "collapsed": false,
    "scrolled": true
   },
   "outputs": [
    {
     "name": "stdout",
     "output_type": "stream",
     "text": [
      "start 2014-11-07 00:00:00 end 2015-05-26 00:00:00\n"
     ]
    },
    {
     "name": "stderr",
     "output_type": "stream",
     "text": [
      "/usr/local/lib/python2.7/dist-packages/numpy/lib/nanfunctions.py:675: RuntimeWarning: Mean of empty slice\n",
      "  warnings.warn(\"Mean of empty slice\", RuntimeWarning)\n",
      "/usr/local/lib/python2.7/dist-packages/numpy/lib/nanfunctions.py:1147: RuntimeWarning: Degrees of freedom <= 0 for slice.\n",
      "  warnings.warn(\"Degrees of freedom <= 0 for slice.\", RuntimeWarning)\n"
     ]
    },
    {
     "name": "stdout",
     "output_type": "stream",
     "text": [
      "start 2015-05-27 00:00:00 end 2015-12-13 00:00:00\n",
      "start 2015-12-14 00:00:00 end 2016-07-01 00:00:00\n",
      "start 2016-07-02 00:00:00 end 2017-01-18 00:00:00\n",
      "start 2017-01-19 00:00:00 end 2017-08-07 00:00:00\n",
      "Time to run pipeline 873.86 secs\n"
     ]
    }
   ],
   "source": [
    "# Run pipeline\n",
    "start_timer = time()\n",
    "while end_full>start:\n",
    "    print 'start', start ,'end' ,start+period\n",
    "    results_period = run_pipeline(history_pipe, start_date=start, end_date=start+period)\n",
    "    start+=(period+pd.DateOffset(1))\n",
    "    results_period.index.names = ['date', 'security']\n",
    "    results=pd.concat([results,results_period])\n",
    "end_timer = time()\n",
    "print \"Time to run pipeline %.2f secs\" % (end_timer - start_timer)"
   ]
  },
  {
   "cell_type": "code",
   "execution_count": 7,
   "metadata": {
    "collapsed": false
   },
   "outputs": [
    {
     "data": {
      "text/html": [
       "<div>\n",
       "<table border=\"1\" class=\"dataframe\">\n",
       "  <thead>\n",
       "    <tr style=\"text-align: right;\">\n",
       "      <th></th>\n",
       "      <th></th>\n",
       "      <th>39 Week Returns</th>\n",
       "      <th>Asset Growth 3M</th>\n",
       "      <th>Asset to Equity Ratio</th>\n",
       "      <th>Capex to Cashflows</th>\n",
       "      <th>EBIT to Assets</th>\n",
       "      <th>EBITDA Yield</th>\n",
       "      <th>MACD Signal Line</th>\n",
       "      <th>Mean Reversion 1M</th>\n",
       "      <th>Moneyflow Volume 5D</th>\n",
       "      <th>Net Income Margin</th>\n",
       "      <th>...</th>\n",
       "      <th>Return250</th>\n",
       "      <th>Return3</th>\n",
       "      <th>Return30</th>\n",
       "      <th>Return4</th>\n",
       "      <th>Return5</th>\n",
       "      <th>Return60</th>\n",
       "      <th>Returns</th>\n",
       "      <th>Trendline</th>\n",
       "      <th>Vol 3M</th>\n",
       "      <th>Working Capital to Assets</th>\n",
       "    </tr>\n",
       "    <tr>\n",
       "      <th>date</th>\n",
       "      <th>security</th>\n",
       "      <th></th>\n",
       "      <th></th>\n",
       "      <th></th>\n",
       "      <th></th>\n",
       "      <th></th>\n",
       "      <th></th>\n",
       "      <th></th>\n",
       "      <th></th>\n",
       "      <th></th>\n",
       "      <th></th>\n",
       "      <th></th>\n",
       "      <th></th>\n",
       "      <th></th>\n",
       "      <th></th>\n",
       "      <th></th>\n",
       "      <th></th>\n",
       "      <th></th>\n",
       "      <th></th>\n",
       "      <th></th>\n",
       "      <th></th>\n",
       "      <th></th>\n",
       "    </tr>\n",
       "  </thead>\n",
       "  <tbody>\n",
       "    <tr>\n",
       "      <th rowspan=\"5\" valign=\"top\">2014-11-07 00:00:00+00:00</th>\n",
       "      <th>Equity(2 [ARNC])</th>\n",
       "      <td>1.528996</td>\n",
       "      <td>-0.040348</td>\n",
       "      <td>-0.082989</td>\n",
       "      <td>0.689135</td>\n",
       "      <td>-0.056671</td>\n",
       "      <td>-0.004957</td>\n",
       "      <td>-0.035885</td>\n",
       "      <td>-0.513947</td>\n",
       "      <td>0.606974</td>\n",
       "      <td>-0.067084</td>\n",
       "      <td>...</td>\n",
       "      <td>0.818287</td>\n",
       "      <td>-0.026723</td>\n",
       "      <td>0.044567</td>\n",
       "      <td>-0.022663</td>\n",
       "      <td>-0.001844</td>\n",
       "      <td>0.012953</td>\n",
       "      <td>-0.001844</td>\n",
       "      <td>0.002284</td>\n",
       "      <td>0.211250</td>\n",
       "      <td>-0.273318</td>\n",
       "    </tr>\n",
       "    <tr>\n",
       "      <th>Equity(24 [AAPL])</th>\n",
       "      <td>0.958122</td>\n",
       "      <td>0.067358</td>\n",
       "      <td>-0.105576</td>\n",
       "      <td>0.027210</td>\n",
       "      <td>-0.022287</td>\n",
       "      <td>0.091902</td>\n",
       "      <td>0.813169</td>\n",
       "      <td>0.101400</td>\n",
       "      <td>0.498972</td>\n",
       "      <td>-0.014685</td>\n",
       "      <td>...</td>\n",
       "      <td>0.492687</td>\n",
       "      <td>-0.002643</td>\n",
       "      <td>0.106982</td>\n",
       "      <td>0.007863</td>\n",
       "      <td>0.009822</td>\n",
       "      <td>0.120630</td>\n",
       "      <td>0.009822</td>\n",
       "      <td>0.677698</td>\n",
       "      <td>-0.513785</td>\n",
       "      <td>-0.744149</td>\n",
       "    </tr>\n",
       "    <tr>\n",
       "      <th>Equity(62 [ABT])</th>\n",
       "      <td>0.131019</td>\n",
       "      <td>-0.164098</td>\n",
       "      <td>-0.113372</td>\n",
       "      <td>0.027817</td>\n",
       "      <td>-0.051799</td>\n",
       "      <td>-0.042516</td>\n",
       "      <td>0.054042</td>\n",
       "      <td>0.149241</td>\n",
       "      <td>0.031036</td>\n",
       "      <td>-0.042966</td>\n",
       "      <td>...</td>\n",
       "      <td>0.167832</td>\n",
       "      <td>0.013482</td>\n",
       "      <td>0.040390</td>\n",
       "      <td>0.000918</td>\n",
       "      <td>-0.010216</td>\n",
       "      <td>0.039896</td>\n",
       "      <td>-0.010216</td>\n",
       "      <td>-0.032567</td>\n",
       "      <td>-0.819354</td>\n",
       "      <td>0.152952</td>\n",
       "    </tr>\n",
       "    <tr>\n",
       "      <th>Equity(67 [ADSK])</th>\n",
       "      <td>0.249543</td>\n",
       "      <td>-0.098946</td>\n",
       "      <td>-0.106027</td>\n",
       "      <td>0.041891</td>\n",
       "      <td>-0.058198</td>\n",
       "      <td>-0.065926</td>\n",
       "      <td>0.166091</td>\n",
       "      <td>-0.345764</td>\n",
       "      <td>1.830092</td>\n",
       "      <td>-0.059615</td>\n",
       "      <td>...</td>\n",
       "      <td>0.372044</td>\n",
       "      <td>0.017714</td>\n",
       "      <td>0.077206</td>\n",
       "      <td>0.014367</td>\n",
       "      <td>0.001538</td>\n",
       "      <td>0.058717</td>\n",
       "      <td>0.001538</td>\n",
       "      <td>0.028446</td>\n",
       "      <td>0.053876</td>\n",
       "      <td>0.511298</td>\n",
       "    </tr>\n",
       "    <tr>\n",
       "      <th>Equity(76 [TAP])</th>\n",
       "      <td>1.013989</td>\n",
       "      <td>-0.164098</td>\n",
       "      <td>-0.113035</td>\n",
       "      <td>0.045595</td>\n",
       "      <td>-0.046912</td>\n",
       "      <td>-0.060467</td>\n",
       "      <td>-0.107397</td>\n",
       "      <td>-0.455320</td>\n",
       "      <td>0.046724</td>\n",
       "      <td>-0.001741</td>\n",
       "      <td>...</td>\n",
       "      <td>0.410579</td>\n",
       "      <td>-0.004826</td>\n",
       "      <td>-0.008151</td>\n",
       "      <td>-0.003223</td>\n",
       "      <td>0.007328</td>\n",
       "      <td>0.017767</td>\n",
       "      <td>0.007328</td>\n",
       "      <td>0.486913</td>\n",
       "      <td>-0.059162</td>\n",
       "      <td>-0.950360</td>\n",
       "    </tr>\n",
       "  </tbody>\n",
       "</table>\n",
       "<p>5 rows × 28 columns</p>\n",
       "</div>"
      ],
      "text/plain": [
       "                                             39 Week Returns  Asset Growth 3M  \\\n",
       "date                      security                                              \n",
       "2014-11-07 00:00:00+00:00 Equity(2 [ARNC])          1.528996        -0.040348   \n",
       "                          Equity(24 [AAPL])         0.958122         0.067358   \n",
       "                          Equity(62 [ABT])          0.131019        -0.164098   \n",
       "                          Equity(67 [ADSK])         0.249543        -0.098946   \n",
       "                          Equity(76 [TAP])          1.013989        -0.164098   \n",
       "\n",
       "                                             Asset to Equity Ratio  \\\n",
       "date                      security                                   \n",
       "2014-11-07 00:00:00+00:00 Equity(2 [ARNC])               -0.082989   \n",
       "                          Equity(24 [AAPL])              -0.105576   \n",
       "                          Equity(62 [ABT])               -0.113372   \n",
       "                          Equity(67 [ADSK])              -0.106027   \n",
       "                          Equity(76 [TAP])               -0.113035   \n",
       "\n",
       "                                             Capex to Cashflows  \\\n",
       "date                      security                                \n",
       "2014-11-07 00:00:00+00:00 Equity(2 [ARNC])             0.689135   \n",
       "                          Equity(24 [AAPL])            0.027210   \n",
       "                          Equity(62 [ABT])             0.027817   \n",
       "                          Equity(67 [ADSK])            0.041891   \n",
       "                          Equity(76 [TAP])             0.045595   \n",
       "\n",
       "                                             EBIT to Assets  EBITDA Yield  \\\n",
       "date                      security                                          \n",
       "2014-11-07 00:00:00+00:00 Equity(2 [ARNC])        -0.056671     -0.004957   \n",
       "                          Equity(24 [AAPL])       -0.022287      0.091902   \n",
       "                          Equity(62 [ABT])        -0.051799     -0.042516   \n",
       "                          Equity(67 [ADSK])       -0.058198     -0.065926   \n",
       "                          Equity(76 [TAP])        -0.046912     -0.060467   \n",
       "\n",
       "                                             MACD Signal Line  \\\n",
       "date                      security                              \n",
       "2014-11-07 00:00:00+00:00 Equity(2 [ARNC])          -0.035885   \n",
       "                          Equity(24 [AAPL])          0.813169   \n",
       "                          Equity(62 [ABT])           0.054042   \n",
       "                          Equity(67 [ADSK])          0.166091   \n",
       "                          Equity(76 [TAP])          -0.107397   \n",
       "\n",
       "                                             Mean Reversion 1M  \\\n",
       "date                      security                               \n",
       "2014-11-07 00:00:00+00:00 Equity(2 [ARNC])           -0.513947   \n",
       "                          Equity(24 [AAPL])           0.101400   \n",
       "                          Equity(62 [ABT])            0.149241   \n",
       "                          Equity(67 [ADSK])          -0.345764   \n",
       "                          Equity(76 [TAP])           -0.455320   \n",
       "\n",
       "                                             Moneyflow Volume 5D  \\\n",
       "date                      security                                 \n",
       "2014-11-07 00:00:00+00:00 Equity(2 [ARNC])              0.606974   \n",
       "                          Equity(24 [AAPL])             0.498972   \n",
       "                          Equity(62 [ABT])              0.031036   \n",
       "                          Equity(67 [ADSK])             1.830092   \n",
       "                          Equity(76 [TAP])              0.046724   \n",
       "\n",
       "                                             Net Income Margin  \\\n",
       "date                      security                               \n",
       "2014-11-07 00:00:00+00:00 Equity(2 [ARNC])           -0.067084   \n",
       "                          Equity(24 [AAPL])          -0.014685   \n",
       "                          Equity(62 [ABT])           -0.042966   \n",
       "                          Equity(67 [ADSK])          -0.059615   \n",
       "                          Equity(76 [TAP])           -0.001741   \n",
       "\n",
       "                                                       ...              \\\n",
       "date                      security                     ...               \n",
       "2014-11-07 00:00:00+00:00 Equity(2 [ARNC])             ...               \n",
       "                          Equity(24 [AAPL])            ...               \n",
       "                          Equity(62 [ABT])             ...               \n",
       "                          Equity(67 [ADSK])            ...               \n",
       "                          Equity(76 [TAP])             ...               \n",
       "\n",
       "                                             Return250   Return3  Return30  \\\n",
       "date                      security                                           \n",
       "2014-11-07 00:00:00+00:00 Equity(2 [ARNC])    0.818287 -0.026723  0.044567   \n",
       "                          Equity(24 [AAPL])   0.492687 -0.002643  0.106982   \n",
       "                          Equity(62 [ABT])    0.167832  0.013482  0.040390   \n",
       "                          Equity(67 [ADSK])   0.372044  0.017714  0.077206   \n",
       "                          Equity(76 [TAP])    0.410579 -0.004826 -0.008151   \n",
       "\n",
       "                                              Return4   Return5  Return60  \\\n",
       "date                      security                                          \n",
       "2014-11-07 00:00:00+00:00 Equity(2 [ARNC])  -0.022663 -0.001844  0.012953   \n",
       "                          Equity(24 [AAPL])  0.007863  0.009822  0.120630   \n",
       "                          Equity(62 [ABT])   0.000918 -0.010216  0.039896   \n",
       "                          Equity(67 [ADSK])  0.014367  0.001538  0.058717   \n",
       "                          Equity(76 [TAP])  -0.003223  0.007328  0.017767   \n",
       "\n",
       "                                              Returns  Trendline    Vol 3M  \\\n",
       "date                      security                                           \n",
       "2014-11-07 00:00:00+00:00 Equity(2 [ARNC])  -0.001844   0.002284  0.211250   \n",
       "                          Equity(24 [AAPL])  0.009822   0.677698 -0.513785   \n",
       "                          Equity(62 [ABT])  -0.010216  -0.032567 -0.819354   \n",
       "                          Equity(67 [ADSK])  0.001538   0.028446  0.053876   \n",
       "                          Equity(76 [TAP])   0.007328   0.486913 -0.059162   \n",
       "\n",
       "                                             Working Capital to Assets  \n",
       "date                      security                                      \n",
       "2014-11-07 00:00:00+00:00 Equity(2 [ARNC])                   -0.273318  \n",
       "                          Equity(24 [AAPL])                  -0.744149  \n",
       "                          Equity(62 [ABT])                    0.152952  \n",
       "                          Equity(67 [ADSK])                   0.511298  \n",
       "                          Equity(76 [TAP])                   -0.950360  \n",
       "\n",
       "[5 rows x 28 columns]"
      ]
     },
     "execution_count": 7,
     "metadata": {},
     "output_type": "execute_result"
    }
   ],
   "source": [
    "results.head()"
   ]
  },
  {
   "cell_type": "code",
   "execution_count": 8,
   "metadata": {
    "collapsed": false
   },
   "outputs": [],
   "source": [
    "# Sometimes there are duplicated indexis\n",
    "results = results[~results.index.duplicated(keep='first')]\n",
    "# Massage data to be in the form expected by shift_mask_data()\n",
    "results_wo_returns = results.copy()\n",
    "returns = results_wo_returns.pop('Returns')\n",
    "Y = returns.unstack().values\n",
    "X = results_wo_returns.to_panel() \n",
    "X = X.swapaxes(2, 0).swapaxes(0, 1).values # (factors, time, stocks) -> (time, stocks, factors)\n",
    "results_wo_returns.index = results_wo_returns.index.set_levels(\n",
    "    results_wo_returns.index.get_level_values(1).map(lambda x: x.symbol), 1, )\n",
    "results_wo_returns.index = results_wo_returns.index.set_levels(\n",
    "    results_wo_returns.index.get_level_values(0).map(lambda x: x.date), 0, )\n",
    "\n",
    "# Train-test split\n",
    "train_size_perc = 0.8\n",
    "n_time, n_stocks, n_factors = X.shape\n",
    "train_size = np.int16(np.round(train_size_perc * n_time))\n",
    "X_train, Y_train = X[:train_size, ...], Y[:train_size]\n",
    "X_test, Y_test = X[(train_size+n_fwd_days):, ...], Y[(train_size+n_fwd_days):]"
   ]
  },
  {
   "cell_type": "code",
   "execution_count": 9,
   "metadata": {
    "collapsed": true
   },
   "outputs": [],
   "source": [
    "def shift_mask_data_absolut_return(X, Y, n_fwd_days=1):\n",
    "    # Shift X to match factors at t to returns at t+n_fwd_days (we want to predict future returns after all)\n",
    "    shifted_X = np.roll(X, n_fwd_days+1, axis=0)\n",
    "    \n",
    "    # Slice off rolled elements\n",
    "    X = shifted_X[n_fwd_days+1:]\n",
    "    Y = Y[n_fwd_days+1:]\n",
    "    \n",
    "    n_time, n_stocks, n_factors = X.shape\n",
    "    level=0.01\n",
    "    upper_mask = (Y > level)\n",
    "    lower_mask = (Y <= level)\n",
    "    \n",
    "    \n",
    "    # Try to predict the price go up to level \n",
    "    Y_binary = np.zeros(n_time * n_stocks)\n",
    "    Y_binary[upper_mask.flatten()] =  1\n",
    "    Y_binary[lower_mask.flatten()] = 0\n",
    "\n",
    "    # Flatten X\n",
    "    X = X.reshape((n_time * n_stocks, n_factors))\n",
    "    \n",
    "    return X, Y_binary"
   ]
  },
  {
   "cell_type": "code",
   "execution_count": 10,
   "metadata": {
    "collapsed": true
   },
   "outputs": [],
   "source": [
    "def shift_mask_data(X, Y, upper_percentile=60, lower_percentile=40, n_fwd_days=1):\n",
    "    # Shift X to match factors at t to returns at t+n_fwd_days (we want to predict future returns after all)\n",
    "    shifted_X = np.roll(X, n_fwd_days+1, axis=0)\n",
    "    \n",
    "    # Slice off rolled elements\n",
    "    X = shifted_X[n_fwd_days+1:]\n",
    "    Y = Y[n_fwd_days+1:]\n",
    "    \n",
    "    n_time, n_stocks, n_factors = X.shape\n",
    "    \n",
    "    # Look for biggest up and down movers\n",
    "    upper = np.nanpercentile(Y, upper_percentile, axis=1)[:, np.newaxis]\n",
    "    lower = np.nanpercentile(Y, lower_percentile, axis=1)[:, np.newaxis]\n",
    "  \n",
    "    upper_mask = (Y >= upper)\n",
    "    lower_mask = (Y <= lower)\n",
    "    \n",
    "    mask = upper_mask | lower_mask # This also drops nans\n",
    "    mask = mask.flatten()\n",
    "    \n",
    "    # Only try to predict whether a stock moved up/down relative to other stocks\n",
    "    Y_binary = np.zeros(n_time * n_stocks)\n",
    "    Y_binary[upper_mask.flatten()] = 0\n",
    "    Y_binary[lower_mask.flatten()] = 1\n",
    "    \n",
    "    # Flatten X\n",
    "    X = X.reshape((n_time * n_stocks, n_factors))\n",
    "\n",
    "    # Drop stocks that did not move much (i.e. are in the 30th to 70th percentile)\n",
    "    X = X[mask]\n",
    "    Y_binary = Y_binary[mask]\n",
    "    \n",
    "    return X, Y_binary"
   ]
  },
  {
   "cell_type": "code",
   "execution_count": 11,
   "metadata": {
    "collapsed": false
   },
   "outputs": [
    {
     "name": "stdout",
     "output_type": "stream",
     "text": [
      "(163944, 27) (63396, 27)\n",
      "(163944,) (63396,)\n"
     ]
    }
   ],
   "source": [
    "X_train_shift, Y_train_shift = shift_mask_data(X_train, Y_train, n_fwd_days=n_fwd_days, \n",
    "                                             lower_percentile=30,\n",
    "                                             upper_percentile=70)\n",
    "X_test_shift, Y_test_shift = shift_mask_data(X_test, Y_test, n_fwd_days=n_fwd_days, \n",
    "                                             lower_percentile=50, \n",
    "                                             upper_percentile=50)\n",
    "\n",
    "print X_train_shift.shape, X_test_shift.shape\n",
    "print Y_train_shift.shape, Y_test_shift.shape"
   ]
  },
  {
   "cell_type": "code",
   "execution_count": 12,
   "metadata": {
    "collapsed": false
   },
   "outputs": [
    {
     "name": "stdout",
     "output_type": "stream",
     "text": [
      "(163944, 27) (63396, 27)\n"
     ]
    }
   ],
   "source": [
    "imputer = preprocessing.Imputer()\n",
    "scaler = preprocessing.MinMaxScaler()\n",
    "X_train_trans = imputer.fit_transform(X_train_shift)\n",
    "X_train_trans = scaler.fit_transform(X_train_trans)\n",
    "X_test_trans = imputer.transform(X_test_shift)\n",
    "X_test_trans = scaler.transform(X_test_trans)\n",
    "print X_train_trans.shape, X_test_trans.shape"
   ]
  },
  {
   "cell_type": "code",
   "execution_count": 18,
   "metadata": {
    "collapsed": false
   },
   "outputs": [],
   "source": [
    "cls_metrics = {\n",
    "            'accuracy': metrics.accuracy_score,\n",
    "            'precision':metrics.precision_score,\n",
    "            'recall': metrics.recall_score ,\n",
    "            'f1':metrics.f1_score,  \n",
    "                }\n",
    "metric_colors = {\n",
    "            'accuracy': 'r',\n",
    "             'precision':'b',\n",
    "            'recall': 'g' ,\n",
    "            'f1':'orange',\n",
    "            'time':'blue',\n",
    "            'time_PCA':'black'\n",
    "                }"
   ]
  },
  {
   "cell_type": "code",
   "execution_count": 19,
   "metadata": {
    "collapsed": false
   },
   "outputs": [
    {
     "name": "stdout",
     "output_type": "stream",
     "text": [
      "1 2 3 5 6 7 15 10 40 50 100 200 300 500"
     ]
    },
    {
     "data": {
      "image/png": "[encoded data removed]",
      "text/plain": [
       "<matplotlib.figure.Figure at 0x7f5399941350>"
      ]
     },
     "metadata": {},
     "output_type": "display_data"
    },
    {
     "data": {
      "image/png": "[encoded data removed]",
      "text/plain": [
       "<matplotlib.figure.Figure at 0x7f53f9ecd790>"
      ]
     },
     "metadata": {},
     "output_type": "display_data"
    },
    {
     "name": "stdout",
     "output_type": "stream",
     "text": [
      " f1 for depth 40 max value 0.509896871615\n",
      "recall for depth 40 max value 0.512091307501\n",
      "precision for depth 2 max value 0.532561429245\n",
      "accuracy for depth 2 max value 0.519307211811\n"
     ]
    }
   ],
   "source": [
    "metric_results_RF={}\n",
    "for metric in cls_metrics:\n",
    "    metric_results_RF.update({metric:[]})\n",
    "    metric_results_RF.update({'time':[]});\n",
    "depths =  np.array([1,2,3,5,6,7,15,10,40,50,100,200,300,500])\n",
    "    \n",
    "for depth in depths:\n",
    "    start_timer = time()\n",
    "    clf = ensemble.RandomForestClassifier(max_depth=depth,n_estimators=100) \n",
    "    clf.fit(X_train_trans, Y_train_shift)\n",
    "    \n",
    "    Y_pred_test = clf.predict(X_test_trans)\n",
    "    end_timer = time()\n",
    "    print depth,\n",
    "    \n",
    "    for metric in cls_metrics:         \n",
    "        temp = cls_metrics[metric](Y_test_shift, Y_pred_test)\n",
    "        metric_results_RF[metric].append(temp)\n",
    "    \n",
    "    metric_results_RF['time'].append(end_timer-start_timer)\n",
    "    \n",
    "mywidth = 0.1\n",
    "shift = -(len(cls_metrics)-1)/2*mywidth\n",
    "\n",
    "for metric in cls_metrics:\n",
    "       \n",
    "    plt.bar(np.array(range(1,len(depths)+1))+shift, metric_results_RF[metric], width=mywidth,\n",
    "        label = metric, color=metric_colors[metric])\n",
    "    shift += mywidth\n",
    "   \n",
    "plt.title(\"Comparing depth\")\n",
    "plt.xlabel('Maximum depth')\n",
    "plt.legend(bbox_to_anchor=(1.05, 1), loc=2, borderaxespad=0.)\n",
    "plt.xticks(np.array(range(1,len(depths)+1)), depths, rotation='vertical')\n",
    "plt.show()    \n",
    "\n",
    "plt.bar(np.array(range(1,len(depths)+1)), metric_results_RF['time'], width=mywidth,\n",
    "        label = 'time', color=metric_colors[metric])\n",
    "plt.title(\"Time to train\")\n",
    "plt.xlabel('Maximum depth')\n",
    "plt.legend(bbox_to_anchor=(1.05, 1), loc=2, borderaxespad=0.)\n",
    "plt.xticks(np.array(range(1,len(depths)+1)), depths, rotation='vertical')\n",
    "\n",
    "plt.show()\n",
    "\n",
    "for metric in cls_metrics:\n",
    "    print metric, 'for depth', depths[np.argmax(metric_results_RF[metric])] \\\n",
    "    ,'max value', max(metric_results_RF[metric])"
   ]
  },
  {
   "cell_type": "code",
   "execution_count": 20,
   "metadata": {
    "collapsed": false
   },
   "outputs": [
    {
     "name": "stdout",
     "output_type": "stream",
     "text": [
      "10 20 30 40 50 70 100 200 300 400 500"
     ]
    },
    {
     "data": {
      "image/png": "[encoded data removed]",
      "text/plain": [
       "<matplotlib.figure.Figure at 0x7f53f7dc5690>"
      ]
     },
     "metadata": {},
     "output_type": "display_data"
    },
    {
     "data": {
      "image/png": "[encoded data removed]",
      "text/plain": [
       "<matplotlib.figure.Figure at 0x7f53f1619210>"
      ]
     },
     "metadata": {},
     "output_type": "display_data"
    },
    {
     "name": "stdout",
     "output_type": "stream",
     "text": [
      " max f1 for variable 500 max value 0.505737356566\n",
      "max recall for variable 70 max value 0.508181732194\n",
      "max precision for variable 300 max value 0.506658614881\n",
      "max accuracy for variable 300 max value 0.506309546344\n"
     ]
    }
   ],
   "source": [
    "metric_results_RF={}\n",
    "for metric in cls_metrics:\n",
    "    metric_results_RF.update({metric:[]})\n",
    "    metric_results_RF.update({'time':[]});\n",
    "    \n",
    "changed_variables =  np.array([10,20,30,40,50,70,100,200,300,400,500])\n",
    "    \n",
    "for changed_variable in changed_variables:\n",
    "    start_timer = time()\n",
    "    clf = ensemble.RandomForestClassifier(max_depth=30,n_estimators=changed_variable) \n",
    "    clf.fit(X_train_trans, Y_train_shift)\n",
    "    \n",
    "    Y_pred_test = clf.predict(X_test_trans)\n",
    "    end_timer = time()\n",
    "    print changed_variable,\n",
    "    \n",
    "    for metric in cls_metrics:         \n",
    "        temp = cls_metrics[metric](Y_test_shift, Y_pred_test)\n",
    "        metric_results_RF[metric].append(temp)\n",
    "    \n",
    "    metric_results_RF['time'].append(end_timer-start_timer)\n",
    "    \n",
    "mywidth = 0.1\n",
    "shift = -(len(cls_metrics)-1)/2*mywidth\n",
    "\n",
    "for metric in cls_metrics:\n",
    "       \n",
    "    plt.bar(np.array(range(1,len(changed_variables)+1))+shift, metric_results_RF[metric], width=mywidth,\n",
    "        label = metric, color=metric_colors[metric])\n",
    "    shift += mywidth\n",
    "   \n",
    "plt.title(\"Comparing variable\")\n",
    "plt.xlabel('Maximum variable')\n",
    "plt.legend(bbox_to_anchor=(1.05, 1), loc=2, borderaxespad=0.)\n",
    "plt.xticks(np.array(range(1,len(changed_variables)+1)), changed_variables, rotation='vertical')\n",
    "plt.show()    \n",
    "\n",
    "plt.bar(np.array(range(1,len(changed_variables)+1)), metric_results_RF['time'], width=mywidth,\n",
    "        label = 'time', color=metric_colors[metric])\n",
    "plt.title(\"Time to train\")\n",
    "plt.xlabel('Variable')\n",
    "plt.legend(bbox_to_anchor=(1.05, 1), loc=2, borderaxespad=0.)\n",
    "plt.xticks(np.array(range(1,len(changed_variables)+1)), changed_variables, rotation='vertical')\n",
    "plt.show()\n",
    "\n",
    "for metric in cls_metrics:\n",
    "    print 'max', metric, 'for variable', changed_variables[np.argmax(metric_results_RF[metric])] \\\n",
    "    ,'max value', max(metric_results_RF[metric])\n"
   ]
  },
  {
   "cell_type": "code",
   "execution_count": null,
   "metadata": {
    "collapsed": false
   },
   "outputs": [],
   "source": []
  },
  {
   "cell_type": "code",
   "execution_count": 21,
   "metadata": {
    "collapsed": false
   },
   "outputs": [
    {
     "name": "stdout",
     "output_type": "stream",
     "text": [
      "1 2 3 4 5 6 7 8 9 10 11 12 13 14 15 16 17 18 19 20 21 22 23 24 25 26 27"
     ]
    },
    {
     "data": {
      "image/png": "[encoded data removed]",
      "text/plain": [
       "<matplotlib.figure.Figure at 0x7f53e96b75d0>"
      ]
     },
     "metadata": {},
     "output_type": "display_data"
    },
    {
     "data": {
      "image/png": "[encoded data removed]",
      "text/plain": [
       "<matplotlib.figure.Figure at 0x7f53ea4c3510>"
      ]
     },
     "metadata": {},
     "output_type": "display_data"
    },
    {
     "name": "stdout",
     "output_type": "stream",
     "text": [
      " max f1 for number of components 21 max value 0.509439840489\n",
      "max recall for number of components 21 max value 0.515559479144\n",
      "max precision for number of components 7 max value 0.50580846702\n",
      "max accuracy for number of components 7 max value 0.50533156666\n"
     ]
    }
   ],
   "source": [
    "metric_results_PCA={}\n",
    "for metric in cls_metrics:\n",
    "    metric_results_PCA.update({metric:[]});\n",
    "    metric_results_PCA.update({'time':[]});\n",
    "    metric_results_PCA.update({'time_PCA':[]});\n",
    "pca_numbers = np.array(range(1,X.shape[2]+1))  \n",
    "clf = ensemble.RandomForestClassifier(max_depth=30,n_estimators=50) \n",
    "    \n",
    "for pca_number in pca_numbers :\n",
    "    print pca_number,\n",
    "    pca=decomposition.PCA(n_components = pca_number)\n",
    "    start_timer_PCA=time()\n",
    "    X_train_trans_PCA = pca.fit_transform(X_train_trans)\n",
    "    X_test_trans_PCA = pca.transform(X_test_trans)\n",
    "    end_timer_PCA=time()\n",
    "    \n",
    "    start_timer=time()\n",
    "    clf.fit(X_train_trans_PCA, Y_train_shift)\n",
    "    Y_pred_test_PCA    = clf.predict(X_test_trans_PCA)\n",
    "    end_timer=time()\n",
    "\n",
    "    \n",
    "    for metric in cls_metrics:         \n",
    "        temp = cls_metrics[metric](Y_test_shift, Y_pred_test_PCA)\n",
    "        metric_results_PCA[metric].append(temp)\n",
    "    \n",
    "    metric_results_PCA['time'].append(end_timer-start_timer)\n",
    "    metric_results_PCA['time_PCA'].append(end_timer_PCA-start_timer_PCA)\n",
    "\n",
    "    mywidth =0.1\n",
    "    \n",
    "    \n",
    "shift=-(len(cls_metrics)-1)/2*mywidth\n",
    "for metric in cls_metrics:\n",
    "        \n",
    "    plt.bar(pca_numbers+shift, metric_results_PCA[metric], width=mywidth,\n",
    "        label = metric, color=metric_colors[metric])\n",
    "    shift += mywidth\n",
    "   \n",
    "\n",
    "plt.title(\"Comparing numbers of components in PCA\")\n",
    "plt.xlabel('Numbers of components')\n",
    "plt.legend(bbox_to_anchor=(1.05, 1), loc=2, borderaxespad=0.)\n",
    "plt.show()\n",
    "\n",
    "plt.bar(np.array(range(1,len(pca_numbers)+1))-mywidth, metric_results_PCA['time'], width=mywidth,\n",
    "        label = 'time to train RF', color='r')\n",
    "plt.bar(np.array(range(1,len(pca_numbers)+1)), metric_results_PCA['time_PCA'], width=mywidth,\n",
    "        label = 'time to train PCA', color='orange')\n",
    "\n",
    "plt.title(\"Time to train\")\n",
    "plt.xlabel('Number of components')\n",
    "plt.xticks(np.array(range(1,len(pca_numbers)+1)), pca_numbers, rotation='vertical')\n",
    "plt.legend(bbox_to_anchor=(1.05, 1), loc=2, borderaxespad=0.)\n",
    "plt.show()\n",
    "\n",
    "\n",
    "\n",
    "for metric in cls_metrics:\n",
    "    print 'max', metric, 'for number of components', pca_numbers[np.argmax(metric_results_PCA[metric])] \\\n",
    "    ,'max value', max(metric_results_PCA[metric])"
   ]
  },
  {
   "cell_type": "code",
   "execution_count": 22,
   "metadata": {
    "collapsed": false
   },
   "outputs": [
    {
     "data": {
      "text/plain": [
       "'             precision    recall  f1-score   support\\n\\n        0.0       0.50      0.50      0.50     31679\\n        1.0       0.50      0.51      0.51     31717\\n\\navg / total       0.50      0.50      0.50     63396\\n'"
      ]
     },
     "execution_count": 22,
     "metadata": {},
     "output_type": "execute_result"
    }
   ],
   "source": [
    "metrics.classification_report(Y_test_shift, Y_pred_test)"
   ]
  },
  {
   "cell_type": "code",
   "execution_count": null,
   "metadata": {
    "collapsed": false
   },
   "outputs": [],
   "source": []
  },
  {
   "cell_type": "code",
   "execution_count": null,
   "metadata": {
    "collapsed": true
   },
   "outputs": [],
   "source": []
  }
 ],
 "metadata": {
  "kernelspec": {
   "display_name": "Python 2",
   "language": "python",
   "name": "python2"
  },
  "language_info": {
   "codemirror_mode": {
    "name": "ipython",
    "version": 2
   },
   "file_extension": ".py",
   "mimetype": "text/x-python",
   "name": "python",
   "nbconvert_exporter": "python",
   "pygments_lexer": "ipython2",
   "version": "2.7.12"
  }
 },
 "nbformat": 4,
 "nbformat_minor": 0
}