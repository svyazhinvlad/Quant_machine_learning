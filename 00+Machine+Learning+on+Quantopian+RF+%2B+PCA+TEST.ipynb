{
 "cells": [
  {
   "cell_type": "code",
   "execution_count": 1,
   "metadata": {
    "collapsed": false
   },
   "outputs": [],
   "source": [
    "# the sourse of code go from https://www.quantopian.com/posts/machine-learning-on-quantopian\n",
    "\n",
    "# import libraries\n",
    "from quantopian.research import run_pipeline\n",
    "from quantopian.pipeline import Pipeline\n",
    "from quantopian.pipeline.factors import Latest\n",
    "from quantopian.pipeline.data.builtin import USEquityPricing\n",
    "from quantopian.pipeline.data import morningstar\n",
    "from quantopian.pipeline.factors import CustomFactor, SimpleMovingAverage, AverageDollarVolume, Returns, RSI\n",
    "from quantopian.pipeline.classifiers.morningstar import Sector\n",
    "from quantopian.pipeline.filters import Q500US, Q1500US\n",
    "from quantopian.pipeline.data.quandl import fred_usdontd156n as libor\n",
    "from quantopian.pipeline.data.zacks import EarningsSurprises\n",
    "\n",
    "import talib\n",
    "import pandas as pd\n",
    "import numpy as np\n",
    "from time import time\n",
    "\n",
    "import alphalens as al\n",
    "import pyfolio as pf\n",
    "from scipy import stats\n",
    "import matplotlib.pyplot as plt\n",
    "import seaborn as sns\n",
    "from sklearn import linear_model, decomposition, ensemble, preprocessing, isotonic, metrics"
   ]
  },
  {
   "cell_type": "code",
   "execution_count": 2,
   "metadata": {
    "collapsed": false
   },
   "outputs": [],
   "source": [
    "#definition of factors\n",
    "bs = morningstar.balance_sheet\n",
    "cfs = morningstar.cash_flow_statement\n",
    "is_ = morningstar.income_statement\n",
    "or_ = morningstar.operation_ratios\n",
    "er = morningstar.earnings_report\n",
    "v = morningstar.valuation\n",
    "vr = morningstar.valuation_ratios\n",
    "\n",
    "\n",
    "def make_factors():\n",
    "    def Asset_Growth_3M():\n",
    "        return Returns(inputs=[bs.total_assets], window_length=63)\n",
    "\n",
    "    def Asset_To_Equity_Ratio():\n",
    "        return bs.total_assets.latest / bs.common_stock_equity.latest\n",
    "\n",
    "    def Capex_To_Cashflows():\n",
    "        return (cfs.capital_expenditure.latest * 4.) / \\\n",
    "            (cfs.free_cash_flow.latest * 4.)\n",
    "        \n",
    "    def EBITDA_Yield():\n",
    "        return (is_.ebitda.latest * 4.) / \\\n",
    "            USEquityPricing.close.latest        \n",
    "\n",
    "    def EBIT_To_Assets():\n",
    "        return (is_.ebit.latest * 4.) / \\\n",
    "            bs.total_assets.latest\n",
    "        \n",
    "    def Earnings_Quality():\n",
    "        return morningstar.cash_flow_statement.operating_cash_flow.latest / \\\n",
    "               EarningsSurprises.eps_act.latest\n",
    "        \n",
    "    def Return_On_Total_Invest_Capital():\n",
    "        return or_.roic.latest\n",
    "    \n",
    "    class Mean_Reversion_1M(CustomFactor):\n",
    "        inputs = [Returns(window_length=21)]\n",
    "        window_length = 252\n",
    "\n",
    "        def compute(self, today, assets, out, monthly_rets):\n",
    "            out[:] = (monthly_rets[-1] - np.nanmean(monthly_rets, axis=0)) / \\\n",
    "                np.nanstd(monthly_rets, axis=0)\n",
    "                \n",
    "    class MACD_Signal_10d(CustomFactor):\n",
    "        inputs = [USEquityPricing.close]\n",
    "        window_length = 60\n",
    "\n",
    "        def compute(self, today, assets, out, close):\n",
    "\n",
    "            sig_lines = []\n",
    "\n",
    "            for col in close.T:\n",
    "                # get signal line only\n",
    "                try:\n",
    "                    _, signal_line, _ = talib.MACD(col, fastperiod=12,\n",
    "                                                   slowperiod=26, signalperiod=10)\n",
    "                    sig_lines.append(signal_line[-1])\n",
    "                # if error calculating, return NaN\n",
    "                except:\n",
    "                    sig_lines.append(np.nan)\n",
    "            out[:] = sig_lines \n",
    "            \n",
    "    class Moneyflow_Volume_5d(CustomFactor):\n",
    "        inputs = [USEquityPricing.close, USEquityPricing.volume]\n",
    "        window_length = 5\n",
    "\n",
    "        def compute(self, today, assets, out, close, volume):\n",
    "\n",
    "            mfvs = []\n",
    "\n",
    "            for col_c, col_v in zip(close.T, volume.T):\n",
    "\n",
    "                # denominator\n",
    "                denominator = np.dot(col_c, col_v)\n",
    "\n",
    "                # numerator\n",
    "                numerator = 0.\n",
    "                for n, price in enumerate(col_c.tolist()):\n",
    "                    if price > col_c[n - 1]:\n",
    "                        numerator += price * col_v[n]\n",
    "                    else:\n",
    "                        numerator -= price * col_v[n]\n",
    "\n",
    "                mfvs.append(numerator / denominator)\n",
    "            out[:] = mfvs  \n",
    "            \n",
    "           \n",
    "    def Net_Income_Margin():\n",
    "        return or_.net_margin.latest           \n",
    "\n",
    "    def Operating_Cashflows_To_Assets():\n",
    "        return (cfs.operating_cash_flow.latest * 4.) / \\\n",
    "            bs.total_assets.latest\n",
    "\n",
    "    def Price_Momentum_3M():\n",
    "        return Returns(window_length=63)\n",
    "    \n",
    "    class Price_Oscillator(CustomFactor):\n",
    "        inputs = [USEquityPricing.close]\n",
    "        window_length = 252\n",
    "\n",
    "        def compute(self, today, assets, out, close):\n",
    "            four_week_period = close[-20:]\n",
    "            out[:] = (np.nanmean(four_week_period, axis=0) /\n",
    "                      np.nanmean(close, axis=0)) - 1.\n",
    "    \n",
    "    def Returns_39W():\n",
    "        return Returns(window_length=215)\n",
    "    \n",
    "    class Trendline(CustomFactor):\n",
    "        inputs = [USEquityPricing.close]\n",
    "        window_length = 252\n",
    "\n",
    "        # using MLE for speed\n",
    "        def compute(self, today, assets, out, close):\n",
    "\n",
    "            # prepare X matrix (x_is - x_bar)\n",
    "            X = range(self.window_length)\n",
    "            X_bar = np.nanmean(X)\n",
    "            X_vector = X - X_bar\n",
    "            X_matrix = np.tile(X_vector, (len(close.T), 1)).T\n",
    "\n",
    "            # prepare Y matrix (y_is - y_bar)\n",
    "            Y_bar = np.nanmean(close, axis=0)\n",
    "            Y_bars = np.tile(Y_bar, (self.window_length, 1))\n",
    "            Y_matrix = close - Y_bars\n",
    "\n",
    "            # prepare variance of X\n",
    "            X_var = np.nanvar(X)\n",
    "\n",
    "            # multiply X matrix an Y matrix and sum (dot product)\n",
    "            # then divide by variance of X\n",
    "            # this gives the MLE of Beta\n",
    "            out[:] = (np.sum((X_matrix * Y_matrix), axis=0) / X_var) / \\\n",
    "                (self.window_length)\n",
    "        \n",
    "    class Vol_3M(CustomFactor):\n",
    "        inputs = [Returns(window_length=2)]\n",
    "        window_length = 63\n",
    "\n",
    "        def compute(self, today, assets, out, rets):\n",
    "            out[:] = np.nanstd(rets, axis=0)\n",
    "            \n",
    "    def Working_Capital_To_Assets():\n",
    "        return bs.working_capital.latest / bs.total_assets.latest   \n",
    "        \n",
    "    all_factors = {\n",
    "        'Asset Growth 3M': Asset_Growth_3M,\n",
    "        'Asset to Equity Ratio': Asset_To_Equity_Ratio,\n",
    "        'Capex to Cashflows': Capex_To_Cashflows,\n",
    "        'EBIT to Assets': EBIT_To_Assets,\n",
    "        'EBITDA Yield': EBITDA_Yield,        \n",
    "        #'Earnings Quality': Earnings_Quality,\n",
    "        'MACD Signal Line': MACD_Signal_10d,\n",
    "        'Mean Reversion 1M': Mean_Reversion_1M,\n",
    "        'Moneyflow Volume 5D': Moneyflow_Volume_5d,\n",
    "        'Net Income Margin': Net_Income_Margin,        \n",
    "        'Operating Cashflows to Assets': Operating_Cashflows_To_Assets,\n",
    "        'Price Momentum 3M': Price_Momentum_3M,\n",
    "        'Price Oscillator': Price_Oscillator,\n",
    "        'Return on Invest Capital': Return_On_Total_Invest_Capital,\n",
    "        '39 Week Returns': Returns_39W,\n",
    "        'Trendline': Trendline,\n",
    "        'Vol 3M': Vol_3M,\n",
    "        'Working Capital to Assets': Working_Capital_To_Assets,        \n",
    "    }        \n",
    "    \n",
    "    return all_factors\n",
    "factors = make_factors()"
   ]
  },
  {
   "cell_type": "code",
   "execution_count": 3,
   "metadata": {
    "collapsed": false
   },
   "outputs": [],
   "source": [
    "universe = Q500US() # Define universe and select factors to use\n",
    "n_fwd_days = 5 # number of days to compute returns over"
   ]
  },
  {
   "cell_type": "markdown",
   "metadata": {},
   "source": [
    "Differently to source I changed rank to zscore!  "
   ]
  },
  {
   "cell_type": "code",
   "execution_count": 4,
   "metadata": {
    "collapsed": false
   },
   "outputs": [],
   "source": [
    "# Define and build the pipeline\n",
    "def make_history_pipeline(factors, universe, n_fwd_days=5):\n",
    "    # Call .rank() on all factors and mask out the universe\n",
    "    factor_zscore = {name: f().zscore(mask=universe) for name, f in factors.iteritems()}\n",
    "    # Get cumulative returns over last n_fwd_days days. We will later shift these.\n",
    "    factor_zscore['Returns'] = Returns(inputs=[USEquityPricing.open],\n",
    "                                      mask=universe, window_length=n_fwd_days)\n",
    "    \n",
    "    # Add many returns as factors\n",
    "    for i in [2,3,4,5,10,20,30,60,100,250]:\n",
    "        factor_zscore ['Return'+str(i)] = Returns(inputs=[USEquityPricing.open],\n",
    "                                      mask=universe, window_length=i)    \n",
    "    \n",
    "    #factor_zscore['SPY']=Returns(inputs=[USEquityPricing.open('SPY')] )\n",
    "    \n",
    "    pipe = Pipeline(screen=universe, columns=factor_zscore)\n",
    "    \n",
    "    return pipe\n",
    "history_pipe = make_history_pipeline(factors, universe, n_fwd_days=n_fwd_days)"
   ]
  },
  {
   "cell_type": "code",
   "execution_count": 5,
   "metadata": {
    "collapsed": false
   },
   "outputs": [],
   "source": [
    "# Because of problem with  time when taken a lot of data divide time to periods\n",
    "end_full = pd.Timestamp(\"2017-08-07\")\n",
    "period = pd.DateOffset(50)\n",
    "number_of_periods = 1\n",
    "results=pd.DataFrame()\n",
    "start = end_full-number_of_periods*(period)-(number_of_periods-1)*pd.DateOffset(1)"
   ]
  },
  {
   "cell_type": "code",
   "execution_count": 6,
   "metadata": {
    "collapsed": false,
    "scrolled": true
   },
   "outputs": [
    {
     "name": "stdout",
     "output_type": "stream",
     "text": [
      "start 2017-06-18 00:00:00 end 2017-08-07 00:00:00\n"
     ]
    },
    {
     "name": "stderr",
     "output_type": "stream",
     "text": [
      "/usr/local/lib/python2.7/dist-packages/numpy/lib/nanfunctions.py:1147: RuntimeWarning: Degrees of freedom <= 0 for slice.\n",
      "  warnings.warn(\"Degrees of freedom <= 0 for slice.\", RuntimeWarning)\n",
      "/usr/local/lib/python2.7/dist-packages/numpy/lib/nanfunctions.py:675: RuntimeWarning: Mean of empty slice\n",
      "  warnings.warn(\"Mean of empty slice\", RuntimeWarning)\n"
     ]
    },
    {
     "name": "stdout",
     "output_type": "stream",
     "text": [
      "Time to run pipeline 62.85 secs\n"
     ]
    }
   ],
   "source": [
    "# Run pipeline\n",
    "start_timer = time()\n",
    "while end_full>start:\n",
    "    print 'start', start ,'end' ,start+period\n",
    "    results_period = run_pipeline(history_pipe, start_date=start, end_date=start+period)\n",
    "    start+=(period+pd.DateOffset(1))\n",
    "    results_period.index.names = ['date', 'security']\n",
    "    results=pd.concat([results,results_period])\n",
    "end_timer = time()\n",
    "print \"Time to run pipeline %.2f secs\" % (end_timer - start_timer)"
   ]
  },
  {
   "cell_type": "code",
   "execution_count": 7,
   "metadata": {
    "collapsed": false
   },
   "outputs": [
    {
     "data": {
      "text/html": [
       "<div>\n",
       "<table border=\"1\" class=\"dataframe\">\n",
       "  <thead>\n",
       "    <tr style=\"text-align: right;\">\n",
       "      <th></th>\n",
       "      <th></th>\n",
       "      <th>39 Week Returns</th>\n",
       "      <th>Asset Growth 3M</th>\n",
       "      <th>Asset to Equity Ratio</th>\n",
       "      <th>Capex to Cashflows</th>\n",
       "      <th>EBIT to Assets</th>\n",
       "      <th>EBITDA Yield</th>\n",
       "      <th>MACD Signal Line</th>\n",
       "      <th>Mean Reversion 1M</th>\n",
       "      <th>Moneyflow Volume 5D</th>\n",
       "      <th>Net Income Margin</th>\n",
       "      <th>...</th>\n",
       "      <th>Return250</th>\n",
       "      <th>Return3</th>\n",
       "      <th>Return30</th>\n",
       "      <th>Return4</th>\n",
       "      <th>Return5</th>\n",
       "      <th>Return60</th>\n",
       "      <th>Returns</th>\n",
       "      <th>Trendline</th>\n",
       "      <th>Vol 3M</th>\n",
       "      <th>Working Capital to Assets</th>\n",
       "    </tr>\n",
       "    <tr>\n",
       "      <th>date</th>\n",
       "      <th>security</th>\n",
       "      <th></th>\n",
       "      <th></th>\n",
       "      <th></th>\n",
       "      <th></th>\n",
       "      <th></th>\n",
       "      <th></th>\n",
       "      <th></th>\n",
       "      <th></th>\n",
       "      <th></th>\n",
       "      <th></th>\n",
       "      <th></th>\n",
       "      <th></th>\n",
       "      <th></th>\n",
       "      <th></th>\n",
       "      <th></th>\n",
       "      <th></th>\n",
       "      <th></th>\n",
       "      <th></th>\n",
       "      <th></th>\n",
       "      <th></th>\n",
       "      <th></th>\n",
       "    </tr>\n",
       "  </thead>\n",
       "  <tbody>\n",
       "    <tr>\n",
       "      <th rowspan=\"5\" valign=\"top\">2017-06-19 00:00:00+00:00</th>\n",
       "      <th>Equity(24 [AAPL])</th>\n",
       "      <td>0.665728</td>\n",
       "      <td>-0.092925</td>\n",
       "      <td>-0.069029</td>\n",
       "      <td>-0.043046</td>\n",
       "      <td>0.738529</td>\n",
       "      <td>2.258280</td>\n",
       "      <td>-0.143788</td>\n",
       "      <td>-2.456057</td>\n",
       "      <td>-0.072704</td>\n",
       "      <td>0.105878</td>\n",
       "      <td>...</td>\n",
       "      <td>0.543430</td>\n",
       "      <td>-0.025220</td>\n",
       "      <td>-0.016261</td>\n",
       "      <td>-0.022968</td>\n",
       "      <td>-0.013449</td>\n",
       "      <td>0.022041</td>\n",
       "      <td>-0.013449</td>\n",
       "      <td>1.163464</td>\n",
       "      <td>-0.452127</td>\n",
       "      <td>-0.268052</td>\n",
       "    </tr>\n",
       "    <tr>\n",
       "      <th>Equity(62 [ABT])</th>\n",
       "      <td>-0.133186</td>\n",
       "      <td>3.027409</td>\n",
       "      <td>-0.074402</td>\n",
       "      <td>-0.107278</td>\n",
       "      <td>-0.287849</td>\n",
       "      <td>0.349901</td>\n",
       "      <td>0.054496</td>\n",
       "      <td>1.604299</td>\n",
       "      <td>1.917903</td>\n",
       "      <td>0.038076</td>\n",
       "      <td>...</td>\n",
       "      <td>0.300011</td>\n",
       "      <td>0.015171</td>\n",
       "      <td>0.080754</td>\n",
       "      <td>0.019898</td>\n",
       "      <td>0.018820</td>\n",
       "      <td>0.084203</td>\n",
       "      <td>0.018820</td>\n",
       "      <td>-0.259425</td>\n",
       "      <td>-0.905302</td>\n",
       "      <td>0.236667</td>\n",
       "    </tr>\n",
       "    <tr>\n",
       "      <th>Equity(67 [ADSK])</th>\n",
       "      <td>2.014238</td>\n",
       "      <td>-0.897876</td>\n",
       "      <td>0.073510</td>\n",
       "      <td>-0.034007</td>\n",
       "      <td>-1.592555</td>\n",
       "      <td>-0.456004</td>\n",
       "      <td>1.245084</td>\n",
       "      <td>0.343737</td>\n",
       "      <td>0.219742</td>\n",
       "      <td>-0.120506</td>\n",
       "      <td>...</td>\n",
       "      <td>0.826524</td>\n",
       "      <td>-0.027829</td>\n",
       "      <td>0.142764</td>\n",
       "      <td>-0.019517</td>\n",
       "      <td>0.012379</td>\n",
       "      <td>0.246898</td>\n",
       "      <td>0.012379</td>\n",
       "      <td>0.824838</td>\n",
       "      <td>1.039022</td>\n",
       "      <td>-0.621388</td>\n",
       "    </tr>\n",
       "    <tr>\n",
       "      <th>Equity(76 [TAP])</th>\n",
       "      <td>-0.831579</td>\n",
       "      <td>-0.124305</td>\n",
       "      <td>-0.067835</td>\n",
       "      <td>0.058274</td>\n",
       "      <td>-0.322391</td>\n",
       "      <td>-0.294512</td>\n",
       "      <td>-0.720180</td>\n",
       "      <td>-1.705451</td>\n",
       "      <td>-0.391036</td>\n",
       "      <td>0.045728</td>\n",
       "      <td>...</td>\n",
       "      <td>-0.118862</td>\n",
       "      <td>-0.018695</td>\n",
       "      <td>-0.046243</td>\n",
       "      <td>-0.008932</td>\n",
       "      <td>0.005275</td>\n",
       "      <td>-0.093199</td>\n",
       "      <td>0.005275</td>\n",
       "      <td>-0.604131</td>\n",
       "      <td>-0.215124</td>\n",
       "      <td>-0.872329</td>\n",
       "    </tr>\n",
       "    <tr>\n",
       "      <th>Equity(114 [ADBE])</th>\n",
       "      <td>0.781539</td>\n",
       "      <td>-0.188100</td>\n",
       "      <td>-0.086794</td>\n",
       "      <td>-0.013006</td>\n",
       "      <td>0.456196</td>\n",
       "      <td>-0.348290</td>\n",
       "      <td>0.343325</td>\n",
       "      <td>-0.414388</td>\n",
       "      <td>-1.191966</td>\n",
       "      <td>0.119421</td>\n",
       "      <td>...</td>\n",
       "      <td>0.392437</td>\n",
       "      <td>-0.013928</td>\n",
       "      <td>0.015978</td>\n",
       "      <td>-0.010375</td>\n",
       "      <td>0.027146</td>\n",
       "      <td>0.088352</td>\n",
       "      <td>0.027146</td>\n",
       "      <td>0.778148</td>\n",
       "      <td>-0.831598</td>\n",
       "      <td>0.430591</td>\n",
       "    </tr>\n",
       "  </tbody>\n",
       "</table>\n",
       "<p>5 rows × 28 columns</p>\n",
       "</div>"
      ],
      "text/plain": [
       "                                              39 Week Returns  \\\n",
       "date                      security                              \n",
       "2017-06-19 00:00:00+00:00 Equity(24 [AAPL])          0.665728   \n",
       "                          Equity(62 [ABT])          -0.133186   \n",
       "                          Equity(67 [ADSK])          2.014238   \n",
       "                          Equity(76 [TAP])          -0.831579   \n",
       "                          Equity(114 [ADBE])         0.781539   \n",
       "\n",
       "                                              Asset Growth 3M  \\\n",
       "date                      security                              \n",
       "2017-06-19 00:00:00+00:00 Equity(24 [AAPL])         -0.092925   \n",
       "                          Equity(62 [ABT])           3.027409   \n",
       "                          Equity(67 [ADSK])         -0.897876   \n",
       "                          Equity(76 [TAP])          -0.124305   \n",
       "                          Equity(114 [ADBE])        -0.188100   \n",
       "\n",
       "                                              Asset to Equity Ratio  \\\n",
       "date                      security                                    \n",
       "2017-06-19 00:00:00+00:00 Equity(24 [AAPL])               -0.069029   \n",
       "                          Equity(62 [ABT])                -0.074402   \n",
       "                          Equity(67 [ADSK])                0.073510   \n",
       "                          Equity(76 [TAP])                -0.067835   \n",
       "                          Equity(114 [ADBE])              -0.086794   \n",
       "\n",
       "                                              Capex to Cashflows  \\\n",
       "date                      security                                 \n",
       "2017-06-19 00:00:00+00:00 Equity(24 [AAPL])            -0.043046   \n",
       "                          Equity(62 [ABT])             -0.107278   \n",
       "                          Equity(67 [ADSK])            -0.034007   \n",
       "                          Equity(76 [TAP])              0.058274   \n",
       "                          Equity(114 [ADBE])           -0.013006   \n",
       "\n",
       "                                              EBIT to Assets  EBITDA Yield  \\\n",
       "date                      security                                           \n",
       "2017-06-19 00:00:00+00:00 Equity(24 [AAPL])         0.738529      2.258280   \n",
       "                          Equity(62 [ABT])         -0.287849      0.349901   \n",
       "                          Equity(67 [ADSK])        -1.592555     -0.456004   \n",
       "                          Equity(76 [TAP])         -0.322391     -0.294512   \n",
       "                          Equity(114 [ADBE])        0.456196     -0.348290   \n",
       "\n",
       "                                              MACD Signal Line  \\\n",
       "date                      security                               \n",
       "2017-06-19 00:00:00+00:00 Equity(24 [AAPL])          -0.143788   \n",
       "                          Equity(62 [ABT])            0.054496   \n",
       "                          Equity(67 [ADSK])           1.245084   \n",
       "                          Equity(76 [TAP])           -0.720180   \n",
       "                          Equity(114 [ADBE])          0.343325   \n",
       "\n",
       "                                              Mean Reversion 1M  \\\n",
       "date                      security                                \n",
       "2017-06-19 00:00:00+00:00 Equity(24 [AAPL])           -2.456057   \n",
       "                          Equity(62 [ABT])             1.604299   \n",
       "                          Equity(67 [ADSK])            0.343737   \n",
       "                          Equity(76 [TAP])            -1.705451   \n",
       "                          Equity(114 [ADBE])          -0.414388   \n",
       "\n",
       "                                              Moneyflow Volume 5D  \\\n",
       "date                      security                                  \n",
       "2017-06-19 00:00:00+00:00 Equity(24 [AAPL])             -0.072704   \n",
       "                          Equity(62 [ABT])               1.917903   \n",
       "                          Equity(67 [ADSK])              0.219742   \n",
       "                          Equity(76 [TAP])              -0.391036   \n",
       "                          Equity(114 [ADBE])            -1.191966   \n",
       "\n",
       "                                              Net Income Margin  \\\n",
       "date                      security                                \n",
       "2017-06-19 00:00:00+00:00 Equity(24 [AAPL])            0.105878   \n",
       "                          Equity(62 [ABT])             0.038076   \n",
       "                          Equity(67 [ADSK])           -0.120506   \n",
       "                          Equity(76 [TAP])             0.045728   \n",
       "                          Equity(114 [ADBE])           0.119421   \n",
       "\n",
       "                                                        ...              \\\n",
       "date                      security                      ...               \n",
       "2017-06-19 00:00:00+00:00 Equity(24 [AAPL])             ...               \n",
       "                          Equity(62 [ABT])              ...               \n",
       "                          Equity(67 [ADSK])             ...               \n",
       "                          Equity(76 [TAP])              ...               \n",
       "                          Equity(114 [ADBE])            ...               \n",
       "\n",
       "                                              Return250   Return3  Return30  \\\n",
       "date                      security                                            \n",
       "2017-06-19 00:00:00+00:00 Equity(24 [AAPL])    0.543430 -0.025220 -0.016261   \n",
       "                          Equity(62 [ABT])     0.300011  0.015171  0.080754   \n",
       "                          Equity(67 [ADSK])    0.826524 -0.027829  0.142764   \n",
       "                          Equity(76 [TAP])    -0.118862 -0.018695 -0.046243   \n",
       "                          Equity(114 [ADBE])   0.392437 -0.013928  0.015978   \n",
       "\n",
       "                                               Return4   Return5  Return60  \\\n",
       "date                      security                                           \n",
       "2017-06-19 00:00:00+00:00 Equity(24 [AAPL])  -0.022968 -0.013449  0.022041   \n",
       "                          Equity(62 [ABT])    0.019898  0.018820  0.084203   \n",
       "                          Equity(67 [ADSK])  -0.019517  0.012379  0.246898   \n",
       "                          Equity(76 [TAP])   -0.008932  0.005275 -0.093199   \n",
       "                          Equity(114 [ADBE]) -0.010375  0.027146  0.088352   \n",
       "\n",
       "                                               Returns  Trendline    Vol 3M  \\\n",
       "date                      security                                            \n",
       "2017-06-19 00:00:00+00:00 Equity(24 [AAPL])  -0.013449   1.163464 -0.452127   \n",
       "                          Equity(62 [ABT])    0.018820  -0.259425 -0.905302   \n",
       "                          Equity(67 [ADSK])   0.012379   0.824838  1.039022   \n",
       "                          Equity(76 [TAP])    0.005275  -0.604131 -0.215124   \n",
       "                          Equity(114 [ADBE])  0.027146   0.778148 -0.831598   \n",
       "\n",
       "                                              Working Capital to Assets  \n",
       "date                      security                                       \n",
       "2017-06-19 00:00:00+00:00 Equity(24 [AAPL])                   -0.268052  \n",
       "                          Equity(62 [ABT])                     0.236667  \n",
       "                          Equity(67 [ADSK])                   -0.621388  \n",
       "                          Equity(76 [TAP])                    -0.872329  \n",
       "                          Equity(114 [ADBE])                   0.430591  \n",
       "\n",
       "[5 rows x 28 columns]"
      ]
     },
     "execution_count": 7,
     "metadata": {},
     "output_type": "execute_result"
    }
   ],
   "source": [
    "results.head()"
   ]
  },
  {
   "cell_type": "code",
   "execution_count": 13,
   "metadata": {
    "collapsed": false
   },
   "outputs": [],
   "source": [
    "# Sometimes there are duplicated indexis\n",
    "results = results[~results.index.duplicated(keep='first')]\n",
    "# Massage data to be in the form expected by shift_mask_data()\n",
    "results_wo_returns = results.copy()\n",
    "returns = results_wo_returns.pop('Returns')\n",
    "Y = returns.unstack().values\n",
    "X = results_wo_returns.to_panel() \n",
    "X = X.swapaxes(2, 0).swapaxes(0, 1).values # (factors, time, stocks) -> (time, stocks, factors)\n",
    "results_wo_returns.index = results_wo_returns.index.set_levels(\n",
    "    results_wo_returns.index.get_level_values(1).map(lambda x: x.symbol), 1, )\n",
    "results_wo_returns.index = results_wo_returns.index.set_levels(\n",
    "    results_wo_returns.index.get_level_values(0).map(lambda x: x.date), 0, )\n",
    "\n",
    "# Train-test split\n",
    "train_size_perc = 0.5\n",
    "n_time, n_stocks, n_factors = X.shape\n",
    "train_size = np.int16(np.round(train_size_perc * n_time))\n",
    "X_train, Y_train = X[:train_size, ...], Y[:train_size]\n",
    "X_test, Y_test = X[(train_size+n_fwd_days):, ...], Y[(train_size+n_fwd_days):]"
   ]
  },
  {
   "cell_type": "code",
   "execution_count": 14,
   "metadata": {
    "collapsed": true
   },
   "outputs": [],
   "source": [
    "def shift_mask_data_absolut_return(X, Y, n_fwd_days=1):\n",
    "    # Shift X to match factors at t to returns at t+n_fwd_days (we want to predict future returns after all)\n",
    "    shifted_X = np.roll(X, n_fwd_days+1, axis=0)\n",
    "    \n",
    "    # Slice off rolled elements\n",
    "    X = shifted_X[n_fwd_days+1:]\n",
    "    Y = Y[n_fwd_days+1:]\n",
    "    \n",
    "    n_time, n_stocks, n_factors = X.shape\n",
    "    level=0.01\n",
    "    upper_mask = (Y > level)\n",
    "    lower_mask = (Y <= level)\n",
    "    \n",
    "    \n",
    "    # Try to predict the price go up to level \n",
    "    Y_binary = np.zeros(n_time * n_stocks)\n",
    "    Y_binary[upper_mask.flatten()] =  1\n",
    "    Y_binary[lower_mask.flatten()] = 0\n",
    "\n",
    "    # Flatten X\n",
    "    X = X.reshape((n_time * n_stocks, n_factors))\n",
    "    \n",
    "    return X, Y_binary"
   ]
  },
  {
   "cell_type": "code",
   "execution_count": 15,
   "metadata": {
    "collapsed": true
   },
   "outputs": [],
   "source": [
    "def shift_mask_data(X, Y, upper_percentile=60, lower_percentile=40, n_fwd_days=1):\n",
    "    # Shift X to match factors at t to returns at t+n_fwd_days (we want to predict future returns after all)\n",
    "    shifted_X = np.roll(X, n_fwd_days+1, axis=0)\n",
    "    \n",
    "    # Slice off rolled elements\n",
    "    X = shifted_X[n_fwd_days+1:]\n",
    "    Y = Y[n_fwd_days+1:]\n",
    "    \n",
    "    n_time, n_stocks, n_factors = X.shape\n",
    "    \n",
    "    # Look for biggest up and down movers\n",
    "    upper = np.nanpercentile(Y, upper_percentile, axis=1)[:, np.newaxis]\n",
    "    lower = np.nanpercentile(Y, lower_percentile, axis=1)[:, np.newaxis]\n",
    "  \n",
    "    upper_mask = (Y >= upper)\n",
    "    lower_mask = (Y <= lower)\n",
    "    \n",
    "    mask = upper_mask | lower_mask # This also drops nans\n",
    "    mask = mask.flatten()\n",
    "    \n",
    "    # Only try to predict whether a stock moved up/down relative to other stocks\n",
    "    Y_binary = np.zeros(n_time * n_stocks)\n",
    "    Y_binary[upper_mask.flatten()] = 1\n",
    "    Y_binary[lower_mask.flatten()] = -1\n",
    "    \n",
    "    # Flatten X\n",
    "    X = X.reshape((n_time * n_stocks, n_factors))\n",
    "\n",
    "    # Drop stocks that did not move much (i.e. are in the 30th to 70th percentile)\n",
    "    X = X[mask]\n",
    "    Y_binary = Y_binary[mask]\n",
    "    \n",
    "    return X, Y_binary"
   ]
  },
  {
   "cell_type": "code",
   "execution_count": 16,
   "metadata": {
    "collapsed": false
   },
   "outputs": [
    {
     "name": "stdout",
     "output_type": "stream",
     "text": [
      "(3600, 27) (2996, 27)\n",
      "(3600,) (2996,)\n"
     ]
    }
   ],
   "source": [
    "X_train_shift, Y_train_shift = shift_mask_data(X_train, Y_train, n_fwd_days=n_fwd_days, \n",
    "                                             lower_percentile=30,\n",
    "                                             upper_percentile=70)\n",
    "X_test_shift, Y_test_shift = shift_mask_data(X_test, Y_test, n_fwd_days=n_fwd_days, \n",
    "                                             lower_percentile=50, \n",
    "                                             upper_percentile=50)\n",
    "\n",
    "print X_train_shift.shape, X_test_shift.shape\n",
    "print Y_train_shift.shape, Y_test_shift.shape"
   ]
  },
  {
   "cell_type": "code",
   "execution_count": 17,
   "metadata": {
    "collapsed": false
   },
   "outputs": [
    {
     "name": "stdout",
     "output_type": "stream",
     "text": [
      "(3600, 27) (2996, 27)\n"
     ]
    }
   ],
   "source": [
    "imputer = preprocessing.Imputer()\n",
    "scaler = preprocessing.MinMaxScaler()\n",
    "X_train_trans = imputer.fit_transform(X_train_shift)\n",
    "X_train_trans = scaler.fit_transform(X_train_trans)\n",
    "X_test_trans = imputer.transform(X_test_shift)\n",
    "X_test_trans = scaler.transform(X_test_trans)\n",
    "print X_train_trans.shape, X_test_trans.shape"
   ]
  },
  {
   "cell_type": "code",
   "execution_count": 62,
   "metadata": {
    "collapsed": false
   },
   "outputs": [],
   "source": [
    "cls_metrics = {\n",
    "            'accuracy': metrics.accuracy_score,\n",
    "            'precision':metrics.average_precision_score,\n",
    "            'recall': metrics.recall_score ,\n",
    "            'f1':metrics.f1_score,  \n",
    "                }\n",
    "metric_colors = {\n",
    "            'accuracy': 'r',\n",
    "             'precision':'b',\n",
    "            'recall': 'g' ,\n",
    "            'f1':'orange',\n",
    "            'time':'blue',\n",
    "            'time_PCA':'black'\n",
    "                }"
   ]
  },
  {
   "cell_type": "code",
   "execution_count": 30,
   "metadata": {
    "collapsed": false
   },
   "outputs": [
    {
     "name": "stdout",
     "output_type": "stream",
     "text": [
      "7 15 10 40 50"
     ]
    },
    {
     "data": {
      "image/png": "[encoded data removed]",
      "text/plain": [
       "<matplotlib.figure.Figure at 0x7fe02c373d10>"
      ]
     },
     "metadata": {},
     "output_type": "display_data"
    },
    {
     "data": {
      "image/png": "[encoded data removed]",
      "text/plain": [
       "<matplotlib.figure.Figure at 0x7fe02d78bd50>"
      ]
     },
     "metadata": {},
     "output_type": "display_data"
    },
    {
     "name": "stdout",
     "output_type": "stream",
     "text": [
      "\n"
     ]
    }
   ],
   "source": [
    "metric_results_RF={}\n",
    "for metric in cls_metrics:\n",
    "    metric_results_RF.update({metric:[]})\n",
    "    metric_results_RF.update({'time':[]});\n",
    "depths =  np.array([7,15,10,40,50])\n",
    "    \n",
    "for depth in depths:\n",
    "    start_timer = time()\n",
    "    clf = ensemble.RandomForestClassifier(max_depth=depth,n_estimators=100) \n",
    "    clf.fit(X_train_trans, Y_train_shift)\n",
    "    \n",
    "    Y_pred_test = clf.predict(X_test_trans)\n",
    "    end_timer = time()\n",
    "    print depth,\n",
    "    \n",
    "    for metric in cls_metrics:         \n",
    "        temp = cls_metrics[metric](Y_test_shift, Y_pred_test)\n",
    "        metric_results_RF[metric].append(temp)\n",
    "    \n",
    "    metric_results_RF['time'].append(end_timer-start_timer)\n",
    "    \n",
    "mywidth = 0.1\n",
    "shift = -(len(cls_metrics)-1)/2*mywidth\n",
    "\n",
    "for metric in cls_metrics:\n",
    "       \n",
    "    plt.bar(np.array(range(1,len(depths)+1))+shift, metric_results_RF[metric], width=mywidth,\n",
    "        label = metric, color=metric_colors[metric])\n",
    "    shift += mywidth\n",
    "   \n",
    "plt.title(\"Comparing depth\")\n",
    "plt.xlabel('Maximum depth')\n",
    "plt.legend(bbox_to_anchor=(1.05, 1), loc=2, borderaxespad=0.)\n",
    "plt.xticks(np.array(range(1,len(depths)+1)), depths, rotation='vertical')\n",
    "plt.show()    \n",
    "\n",
    "plt.bar(np.array(range(1,len(depths)+1)), metric_results_RF['time'], width=mywidth,\n",
    "        label = 'time', color=metric_colors[metric])\n",
    "plt.title(\"Time to train\")\n",
    "plt.xlabel('Maximum depth')\n",
    "plt.legend(bbox_to_anchor=(1.05, 1), loc=2, borderaxespad=0.)\n",
    "plt.xticks(np.array(range(1,len(depths)+1)), depths, rotation='vertical')\n",
    "\n",
    "plt.show()\n",
    "\n",
    "for metric in cls_metrics:\n",
    "    print metric, 'for depth', depths[np.argmax(metric_results_RF[metric])] \\\n",
    "    ,'max value', max(metric_results_RF[metric])"
   ]
  },
  {
   "cell_type": "code",
   "execution_count": 39,
   "metadata": {
    "collapsed": false
   },
   "outputs": [
    {
     "name": "stdout",
     "output_type": "stream",
     "text": [
      "f1 for depth 40 max value 0.458980845681\n",
      "recall for depth 40 max value 0.423898531375\n",
      "precision for depth 40 max value 0.60617163836\n",
      "accuracy for depth 40 max value 0.500333778371\n"
     ]
    }
   ],
   "source": []
  },
  {
   "cell_type": "code",
   "execution_count": null,
   "metadata": {
    "collapsed": false
   },
   "outputs": [],
   "source": []
  },
  {
   "cell_type": "code",
   "execution_count": 57,
   "metadata": {
    "collapsed": false
   },
   "outputs": [
    {
     "name": "stdout",
     "output_type": "stream",
     "text": [
      "1 2 3 4 5 6 7 8"
     ]
    },
    {
     "data": {
      "image/png": "[encoded data removed]",
      "text/plain": [
       "<matplotlib.figure.Figure at 0x7fe02bcfa2d0>"
      ]
     },
     "metadata": {},
     "output_type": "display_data"
    },
    {
     "data": {
      "image/png": "[encoded data removed]",
      "text/plain": [
       "<matplotlib.figure.Figure at 0x7fe02bde5590>"
      ]
     },
     "metadata": {},
     "output_type": "display_data"
    },
    {
     "name": "stdout",
     "output_type": "stream",
     "text": [
      " max f1 for variable 6 max value 0.458393113343\n",
      "max recall for variable 6 max value 0.426568758344\n",
      "max precision for variable 6 max value 0.604316608191\n",
      "max accuracy for variable 3 max value 0.497329773031\n"
     ]
    }
   ],
   "source": [
    "metric_results_RF={}\n",
    "for metric in cls_metrics:\n",
    "    metric_results_RF.update({metric:[]})\n",
    "    metric_results_RF.update({'time':[]});\n",
    "    \n",
    "changed_variables =  np.array([1,2,3,4,5,6,7,8])\n",
    "    \n",
    "for changed_variable in changed_variables:\n",
    "    start_timer = time()\n",
    "    clf = ensemble.RandomForestClassifier(max_depth=30,n_estimators=50,max_features=changed_variable) \n",
    "    clf.fit(X_train_trans, Y_train_shift)\n",
    "    \n",
    "    Y_pred_test = clf.predict(X_test_trans)\n",
    "    end_timer = time()\n",
    "    print changed_variable,\n",
    "    \n",
    "    for metric in cls_metrics:         \n",
    "        temp = cls_metrics[metric](Y_test_shift, Y_pred_test)\n",
    "        metric_results_RF[metric].append(temp)\n",
    "    \n",
    "    metric_results_RF['time'].append(end_timer-start_timer)\n",
    "    \n",
    "mywidth = 0.1\n",
    "shift = -(len(cls_metrics)-1)/2*mywidth\n",
    "\n",
    "for metric in cls_metrics:\n",
    "       \n",
    "    plt.bar(np.array(range(1,len(changed_variables)+1))+shift, metric_results_RF[metric], width=mywidth,\n",
    "        label = metric, color=metric_colors[metric])\n",
    "    shift += mywidth\n",
    "   \n",
    "plt.title(\"Comparing variable\")\n",
    "plt.xlabel('Maximum variable')\n",
    "plt.legend(bbox_to_anchor=(1.05, 1), loc=2, borderaxespad=0.)\n",
    "plt.xticks(np.array(range(1,len(changed_variables)+1)), changed_variables, rotation='vertical')\n",
    "plt.show()    \n",
    "\n",
    "plt.bar(np.array(range(1,len(changed_variables)+1)), metric_results_RF['time'], width=mywidth,\n",
    "        label = 'time', color=metric_colors[metric])\n",
    "plt.title(\"Time to train\")\n",
    "plt.xlabel('Variable')\n",
    "plt.legend(bbox_to_anchor=(1.05, 1), loc=2, borderaxespad=0.)\n",
    "plt.xticks(np.array(range(1,len(changed_variables)+1)), changed_variables, rotation='vertical')\n",
    "plt.show()\n",
    "\n",
    "for metric in cls_metrics:\n",
    "    print 'max', metric, 'for variable', changed_variables[np.argmax(metric_results_RF[metric])] \\\n",
    "    ,'max value', max(metric_results_RF[metric])\n"
   ]
  },
  {
   "cell_type": "code",
   "execution_count": 70,
   "metadata": {
    "collapsed": false
   },
   "outputs": [
    {
     "name": "stdout",
     "output_type": "stream",
     "text": [
      "1 2 3 4 5 6 7 8 9 10 11 12 13 14 15 16 17 18 19 20 21 22 23 24 25 26 27"
     ]
    },
    {
     "data": {
      "image/png": "[encoded data removed]",
      "text/plain": [
       "<matplotlib.figure.Figure at 0x7fe03935f590>"
      ]
     },
     "metadata": {},
     "output_type": "display_data"
    },
    {
     "data": {
      "image/png": "[encoded data removed]",
      "text/plain": [
       "<matplotlib.figure.Figure at 0x7fe02cf2a810>"
      ]
     },
     "metadata": {},
     "output_type": "display_data"
    },
    {
     "name": "stdout",
     "output_type": "stream",
     "text": [
      " max f1 for number of components 2 max value 0.53015241882\n",
      "max recall for number of components 2 max value 0.534045393858\n",
      "max precision for number of components 1 max value 0.647445587405\n",
      "max accuracy for number of components 1 max value 0.530707610147\n"
     ]
    }
   ],
   "source": [
    "metric_results_PCA={}\n",
    "for metric in cls_metrics:\n",
    "    metric_results_PCA.update({metric:[]});\n",
    "    metric_results_PCA.update({'time':[]});\n",
    "    metric_results_PCA.update({'time_PCA':[]});\n",
    "pca_numbers = np.array(range(1,X.shape[2]+1))  \n",
    "clf = ensemble.RandomForestClassifier(max_depth=30,n_estimators=50) \n",
    "    \n",
    "for pca_number in pca_numbers :\n",
    "    print pca_number,\n",
    "    pca=decomposition.PCA(n_components = pca_number)\n",
    "    start_timer_PCA=time()\n",
    "    X_train_trans_PCA = pca.fit_transform(X_train_trans)\n",
    "    X_test_trans_PCA = pca.transform(X_test_trans)\n",
    "    end_timer_PCA=time()\n",
    "    \n",
    "    start_timer=time()\n",
    "    clf.fit(X_train_trans_PCA, Y_train_shift)\n",
    "    Y_pred_test_PCA    = clf.predict(X_test_trans_PCA)\n",
    "    end_timer=time()\n",
    "\n",
    "    \n",
    "    for metric in cls_metrics:         \n",
    "        temp = cls_metrics[metric](Y_test_shift, Y_pred_test_PCA)\n",
    "        metric_results_PCA[metric].append(temp)\n",
    "    \n",
    "    metric_results_PCA['time'].append(end_timer-start_timer)\n",
    "    metric_results_PCA['time_PCA'].append(end_timer_PCA-start_timer_PCA)\n",
    "\n",
    "    mywidth =0.1\n",
    "    \n",
    "    \n",
    "shift=-(len(cls_metrics)-1)/2*mywidth\n",
    "for metric in cls_metrics:\n",
    "        \n",
    "    plt.bar(pca_numbers+shift, metric_results_PCA[metric], width=mywidth,\n",
    "        label = metric, color=metric_colors[metric])\n",
    "    shift += mywidth\n",
    "   \n",
    "\n",
    "plt.title(\"Comparing numbers of components in PCA\")\n",
    "plt.xlabel('Numbers of components')\n",
    "plt.legend(bbox_to_anchor=(1.05, 1), loc=2, borderaxespad=0.)\n",
    "plt.show()\n",
    "\n",
    "plt.bar(np.array(range(1,len(pca_numbers)+1))-mywidth, metric_results_PCA['time'], width=mywidth,\n",
    "        label = 'time to train RF', color='r')\n",
    "plt.bar(np.array(range(1,len(pca_numbers)+1)), metric_results_PCA['time_PCA'], width=mywidth,\n",
    "        label = 'time to train PCA', color='orange')\n",
    "\n",
    "plt.title(\"Time to train\")\n",
    "plt.xlabel('Number of components')\n",
    "plt.xticks(np.array(range(1,len(pca_numbers)+1)), pca_numbers, rotation='vertical')\n",
    "plt.legend(bbox_to_anchor=(1.05, 1), loc=2, borderaxespad=0.)\n",
    "plt.show()\n",
    "\n",
    "\n",
    "\n",
    "for metric in cls_metrics:\n",
    "    print 'max', metric, 'for number of components', pca_numbers[np.argmax(metric_results_PCA[metric])] \\\n",
    "    ,'max value', max(metric_results_PCA[metric])"
   ]
  },
  {
   "cell_type": "code",
   "execution_count": null,
   "metadata": {
    "collapsed": false
   },
   "outputs": [],
   "source": []
  },
  {
   "cell_type": "code",
   "execution_count": null,
   "metadata": {
    "collapsed": false
   },
   "outputs": [],
   "source": []
  },
  {
   "cell_type": "code",
   "execution_count": null,
   "metadata": {
    "collapsed": true
   },
   "outputs": [],
   "source": []
  }
 ],
 "metadata": {
  "kernelspec": {
   "display_name": "Python 2",
   "language": "python",
   "name": "python2"
  },
  "language_info": {
   "codemirror_mode": {
    "name": "ipython",
    "version": 2
   },
   "file_extension": ".py",
   "mimetype": "text/x-python",
   "name": "python",
   "nbconvert_exporter": "python",
   "pygments_lexer": "ipython2",
   "version": "2.7.12"
  }
 },
 "nbformat": 4,
 "nbformat_minor": 0
}