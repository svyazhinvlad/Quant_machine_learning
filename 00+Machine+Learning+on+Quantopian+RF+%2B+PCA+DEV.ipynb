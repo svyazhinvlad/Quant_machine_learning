{
 "cells": [
  {
   "cell_type": "code",
   "execution_count": 3,
   "metadata": {
    "collapsed": false
   },
   "outputs": [],
   "source": [
    "# the sourse of code go from https://www.quantopian.com/posts/machine-learning-on-quantopian\n",
    "\n",
    "# import libraries\n",
    "from quantopian.research import run_pipeline\n",
    "from quantopian.pipeline import Pipeline\n",
    "from quantopian.pipeline.factors import Latest\n",
    "from quantopian.pipeline.data.builtin import USEquityPricing\n",
    "from quantopian.pipeline.data import morningstar\n",
    "from quantopian.pipeline.factors import CustomFactor, SimpleMovingAverage, AverageDollarVolume, Returns, RSI\n",
    "from quantopian.pipeline.classifiers.morningstar import Sector\n",
    "from quantopian.pipeline.filters import Q500US, Q1500US\n",
    "from quantopian.pipeline.data.quandl import fred_usdontd156n as libor\n",
    "from quantopian.pipeline.data.zacks import EarningsSurprises\n",
    "\n",
    "import talib\n",
    "import pandas as pd\n",
    "import numpy as np\n",
    "from time import time\n",
    "\n",
    "import alphalens as al\n",
    "import pyfolio as pf\n",
    "from scipy import stats\n",
    "import matplotlib.pyplot as plt\n",
    "import seaborn as sns\n",
    "from sklearn import linear_model, decomposition, ensemble, preprocessing, isotonic, metrics"
   ]
  },
  {
   "cell_type": "code",
   "execution_count": 4,
   "metadata": {
    "collapsed": false
   },
   "outputs": [],
   "source": [
    "#definition of factors\n",
    "bs = morningstar.balance_sheet\n",
    "cfs = morningstar.cash_flow_statement\n",
    "is_ = morningstar.income_statement\n",
    "or_ = morningstar.operation_ratios\n",
    "er = morningstar.earnings_report\n",
    "v = morningstar.valuation\n",
    "vr = morningstar.valuation_ratios\n",
    "\n",
    "\n",
    "def make_factors():\n",
    "    def Asset_Growth_3M():\n",
    "        return Returns(inputs=[bs.total_assets], window_length=63)\n",
    "\n",
    "    def Asset_To_Equity_Ratio():\n",
    "        return bs.total_assets.latest / bs.common_stock_equity.latest\n",
    "\n",
    "    def Capex_To_Cashflows():\n",
    "        return (cfs.capital_expenditure.latest * 4.) / \\\n",
    "            (cfs.free_cash_flow.latest * 4.)\n",
    "        \n",
    "    def EBITDA_Yield():\n",
    "        return (is_.ebitda.latest * 4.) / \\\n",
    "            USEquityPricing.close.latest        \n",
    "\n",
    "    def EBIT_To_Assets():\n",
    "        return (is_.ebit.latest * 4.) / \\\n",
    "            bs.total_assets.latest\n",
    "        \n",
    "    def Earnings_Quality():\n",
    "        return morningstar.cash_flow_statement.operating_cash_flow.latest / \\\n",
    "               EarningsSurprises.eps_act.latest\n",
    "        \n",
    "    def Return_On_Total_Invest_Capital():\n",
    "        return or_.roic.latest\n",
    "    \n",
    "    class Mean_Reversion_1M(CustomFactor):\n",
    "        inputs = [Returns(window_length=21)]\n",
    "        window_length = 252\n",
    "\n",
    "        def compute(self, today, assets, out, monthly_rets):\n",
    "            out[:] = (monthly_rets[-1] - np.nanmean(monthly_rets, axis=0)) / \\\n",
    "                np.nanstd(monthly_rets, axis=0)\n",
    "                \n",
    "    class MACD_Signal_10d(CustomFactor):\n",
    "        inputs = [USEquityPricing.close]\n",
    "        window_length = 60\n",
    "\n",
    "        def compute(self, today, assets, out, close):\n",
    "\n",
    "            sig_lines = []\n",
    "\n",
    "            for col in close.T:\n",
    "                # get signal line only\n",
    "                try:\n",
    "                    _, signal_line, _ = talib.MACD(col, fastperiod=12,\n",
    "                                                   slowperiod=26, signalperiod=10)\n",
    "                    sig_lines.append(signal_line[-1])\n",
    "                # if error calculating, return NaN\n",
    "                except:\n",
    "                    sig_lines.append(np.nan)\n",
    "            out[:] = sig_lines \n",
    "            \n",
    "    class Moneyflow_Volume_5d(CustomFactor):\n",
    "        inputs = [USEquityPricing.close, USEquityPricing.volume]\n",
    "        window_length = 5\n",
    "\n",
    "        def compute(self, today, assets, out, close, volume):\n",
    "\n",
    "            mfvs = []\n",
    "\n",
    "            for col_c, col_v in zip(close.T, volume.T):\n",
    "\n",
    "                # denominator\n",
    "                denominator = np.dot(col_c, col_v)\n",
    "\n",
    "                # numerator\n",
    "                numerator = 0.\n",
    "                for n, price in enumerate(col_c.tolist()):\n",
    "                    if price > col_c[n - 1]:\n",
    "                        numerator += price * col_v[n]\n",
    "                    else:\n",
    "                        numerator -= price * col_v[n]\n",
    "\n",
    "                mfvs.append(numerator / denominator)\n",
    "            out[:] = mfvs  \n",
    "            \n",
    "           \n",
    "    def Net_Income_Margin():\n",
    "        return or_.net_margin.latest           \n",
    "\n",
    "    def Operating_Cashflows_To_Assets():\n",
    "        return (cfs.operating_cash_flow.latest * 4.) / \\\n",
    "            bs.total_assets.latest\n",
    "\n",
    "    def Price_Momentum_3M():\n",
    "        return Returns(window_length=63)\n",
    "    \n",
    "    class Price_Oscillator(CustomFactor):\n",
    "        inputs = [USEquityPricing.close]\n",
    "        window_length = 252\n",
    "\n",
    "        def compute(self, today, assets, out, close):\n",
    "            four_week_period = close[-20:]\n",
    "            out[:] = (np.nanmean(four_week_period, axis=0) /\n",
    "                      np.nanmean(close, axis=0)) - 1.\n",
    "    \n",
    "    def Returns_39W():\n",
    "        return Returns(window_length=215)\n",
    "    \n",
    "    class Trendline(CustomFactor):\n",
    "        inputs = [USEquityPricing.close]\n",
    "        window_length = 252\n",
    "\n",
    "        # using MLE for speed\n",
    "        def compute(self, today, assets, out, close):\n",
    "\n",
    "            # prepare X matrix (x_is - x_bar)\n",
    "            X = range(self.window_length)\n",
    "            X_bar = np.nanmean(X)\n",
    "            X_vector = X - X_bar\n",
    "            X_matrix = np.tile(X_vector, (len(close.T), 1)).T\n",
    "\n",
    "            # prepare Y matrix (y_is - y_bar)\n",
    "            Y_bar = np.nanmean(close, axis=0)\n",
    "            Y_bars = np.tile(Y_bar, (self.window_length, 1))\n",
    "            Y_matrix = close - Y_bars\n",
    "\n",
    "            # prepare variance of X\n",
    "            X_var = np.nanvar(X)\n",
    "\n",
    "            # multiply X matrix an Y matrix and sum (dot product)\n",
    "            # then divide by variance of X\n",
    "            # this gives the MLE of Beta\n",
    "            out[:] = (np.sum((X_matrix * Y_matrix), axis=0) / X_var) / \\\n",
    "                (self.window_length)\n",
    "        \n",
    "    class Vol_3M(CustomFactor):\n",
    "        inputs = [Returns(window_length=2)]\n",
    "        window_length = 63\n",
    "\n",
    "        def compute(self, today, assets, out, rets):\n",
    "            out[:] = np.nanstd(rets, axis=0)\n",
    "            \n",
    "    def Working_Capital_To_Assets():\n",
    "        return bs.working_capital.latest / bs.total_assets.latest   \n",
    "        \n",
    "    all_factors = {\n",
    "        'Asset Growth 3M': Asset_Growth_3M,\n",
    "        'Asset to Equity Ratio': Asset_To_Equity_Ratio,\n",
    "        'Capex to Cashflows': Capex_To_Cashflows,\n",
    "        'EBIT to Assets': EBIT_To_Assets,\n",
    "        'EBITDA Yield': EBITDA_Yield,        \n",
    "        #'Earnings Quality': Earnings_Quality,\n",
    "        'MACD Signal Line': MACD_Signal_10d,\n",
    "        'Mean Reversion 1M': Mean_Reversion_1M,\n",
    "        'Moneyflow Volume 5D': Moneyflow_Volume_5d,\n",
    "        'Net Income Margin': Net_Income_Margin,        \n",
    "        'Operating Cashflows to Assets': Operating_Cashflows_To_Assets,\n",
    "        'Price Momentum 3M': Price_Momentum_3M,\n",
    "        'Price Oscillator': Price_Oscillator,\n",
    "        'Return on Invest Capital': Return_On_Total_Invest_Capital,\n",
    "        '39 Week Returns': Returns_39W,\n",
    "        'Trendline': Trendline,\n",
    "        'Vol 3M': Vol_3M,\n",
    "        'Working Capital to Assets': Working_Capital_To_Assets,        \n",
    "    }        \n",
    "    \n",
    "    return all_factors\n",
    "factors = make_factors()"
   ]
  },
  {
   "cell_type": "code",
   "execution_count": 5,
   "metadata": {
    "collapsed": false
   },
   "outputs": [],
   "source": [
    "universe = Q500US() # Define universe and select factors to use\n",
    "n_fwd_days = 5 # number of days to compute returns over"
   ]
  },
  {
   "cell_type": "markdown",
   "metadata": {},
   "source": [
    "Differently to source I changed rank to zscore!  "
   ]
  },
  {
   "cell_type": "code",
   "execution_count": 6,
   "metadata": {
    "collapsed": false
   },
   "outputs": [],
   "source": [
    "# Define and build the pipeline\n",
    "def make_history_pipeline(factors, universe, n_fwd_days=5):\n",
    "    # Call .rank() on all factors and mask out the universe\n",
    "    factor_zscore = {name: f().zscore(mask=universe) for name, f in factors.iteritems()}\n",
    "    # Get cumulative returns over last n_fwd_days days. We will later shift these.\n",
    "    factor_zscore['Returns'] = Returns(inputs=[USEquityPricing.open],\n",
    "                                      mask=universe, window_length=n_fwd_days)\n",
    "    \n",
    "    # Add many returns as factors\n",
    "    for i in [2,3,4,5,7,10,20,60,100,250]:\n",
    "        factor_zscore ['Return'+str(i)] = Returns(inputs=[USEquityPricing.open],\n",
    "                                      mask=universe, window_length=i)    \n",
    "    \n",
    "    #factor_zscore['SPY']=Returns(inputs=[USEquityPricing.open('SPY')] )\n",
    "    \n",
    "    pipe = Pipeline(screen=universe, columns=factor_zscore)\n",
    "    \n",
    "    return pipe\n",
    "history_pipe = make_history_pipeline(factors, universe, n_fwd_days=n_fwd_days)"
   ]
  },
  {
   "cell_type": "code",
   "execution_count": 7,
   "metadata": {
    "collapsed": false
   },
   "outputs": [],
   "source": [
    "# Because of problem with  time when taken a lot of data divide time to periods\n",
    "end_full = pd.Timestamp(\"2016-08-07\")\n",
    "period = pd.DateOffset(100)\n",
    "number_of_periods = 1\n",
    "results=pd.DataFrame()\n",
    "start = end_full-number_of_periods*(period)-(number_of_periods-1)*pd.DateOffset(1)"
   ]
  },
  {
   "cell_type": "code",
   "execution_count": 8,
   "metadata": {
    "collapsed": false,
    "scrolled": true
   },
   "outputs": [
    {
     "name": "stdout",
     "output_type": "stream",
     "text": [
      "start 2016-04-29 00:00:00 end 2016-08-07 00:00:00\n"
     ]
    },
    {
     "name": "stderr",
     "output_type": "stream",
     "text": [
      "/usr/local/lib/python2.7/dist-packages/numpy/lib/nanfunctions.py:675: RuntimeWarning: Mean of empty slice\n",
      "  warnings.warn(\"Mean of empty slice\", RuntimeWarning)\n",
      "/usr/local/lib/python2.7/dist-packages/numpy/lib/nanfunctions.py:1147: RuntimeWarning: Degrees of freedom <= 0 for slice.\n",
      "  warnings.warn(\"Degrees of freedom <= 0 for slice.\", RuntimeWarning)\n"
     ]
    },
    {
     "name": "stdout",
     "output_type": "stream",
     "text": [
      "Time to run pipeline 47.35 secs\n"
     ]
    }
   ],
   "source": [
    "# Run pipeline\n",
    "start_timer = time()\n",
    "while end_full>start:\n",
    "    print 'start', start ,'end' ,start+period\n",
    "    results_period = run_pipeline(history_pipe, start_date=start, end_date=start+period)\n",
    "    start+=(period+pd.DateOffset(1))\n",
    "    results_period.index.names = ['date', 'security']\n",
    "    results=pd.concat([results,results_period])\n",
    "end_timer = time()\n",
    "print \"Time to run pipeline %.2f secs\" % (end_timer - start_timer)"
   ]
  },
  {
   "cell_type": "code",
   "execution_count": 9,
   "metadata": {
    "collapsed": false
   },
   "outputs": [
    {
     "data": {
      "text/html": [
       "<div>\n",
       "<table border=\"1\" class=\"dataframe\">\n",
       "  <thead>\n",
       "    <tr style=\"text-align: right;\">\n",
       "      <th></th>\n",
       "      <th></th>\n",
       "      <th>39 Week Returns</th>\n",
       "      <th>Asset Growth 3M</th>\n",
       "      <th>Asset to Equity Ratio</th>\n",
       "      <th>Capex to Cashflows</th>\n",
       "      <th>EBIT to Assets</th>\n",
       "      <th>EBITDA Yield</th>\n",
       "      <th>MACD Signal Line</th>\n",
       "      <th>Mean Reversion 1M</th>\n",
       "      <th>Moneyflow Volume 5D</th>\n",
       "      <th>Net Income Margin</th>\n",
       "      <th>...</th>\n",
       "      <th>Return250</th>\n",
       "      <th>Return3</th>\n",
       "      <th>Return4</th>\n",
       "      <th>Return5</th>\n",
       "      <th>Return60</th>\n",
       "      <th>Return7</th>\n",
       "      <th>Returns</th>\n",
       "      <th>Trendline</th>\n",
       "      <th>Vol 3M</th>\n",
       "      <th>Working Capital to Assets</th>\n",
       "    </tr>\n",
       "    <tr>\n",
       "      <th>date</th>\n",
       "      <th>security</th>\n",
       "      <th></th>\n",
       "      <th></th>\n",
       "      <th></th>\n",
       "      <th></th>\n",
       "      <th></th>\n",
       "      <th></th>\n",
       "      <th></th>\n",
       "      <th></th>\n",
       "      <th></th>\n",
       "      <th></th>\n",
       "      <th></th>\n",
       "      <th></th>\n",
       "      <th></th>\n",
       "      <th></th>\n",
       "      <th></th>\n",
       "      <th></th>\n",
       "      <th></th>\n",
       "      <th></th>\n",
       "      <th></th>\n",
       "      <th></th>\n",
       "      <th></th>\n",
       "    </tr>\n",
       "  </thead>\n",
       "  <tbody>\n",
       "    <tr>\n",
       "      <th rowspan=\"5\" valign=\"top\">2016-04-29 00:00:00+00:00</th>\n",
       "      <th>Equity(2 [ARNC])</th>\n",
       "      <td>0.061271</td>\n",
       "      <td>-0.130567</td>\n",
       "      <td>0.028741</td>\n",
       "      <td>-0.103404</td>\n",
       "      <td>-0.703530</td>\n",
       "      <td>-0.736978</td>\n",
       "      <td>-0.361856</td>\n",
       "      <td>1.130081</td>\n",
       "      <td>0.143532</td>\n",
       "      <td>-0.062222</td>\n",
       "      <td>...</td>\n",
       "      <td>-0.195722</td>\n",
       "      <td>0.091440</td>\n",
       "      <td>0.088264</td>\n",
       "      <td>0.073684</td>\n",
       "      <td>0.589235</td>\n",
       "      <td>0.068571</td>\n",
       "      <td>0.073684</td>\n",
       "      <td>0.111162</td>\n",
       "      <td>1.168465</td>\n",
       "      <td>-0.292498</td>\n",
       "    </tr>\n",
       "    <tr>\n",
       "      <th>Equity(24 [AAPL])</th>\n",
       "      <td>-0.820415</td>\n",
       "      <td>0.210220</td>\n",
       "      <td>0.011032</td>\n",
       "      <td>-0.040244</td>\n",
       "      <td>0.676811</td>\n",
       "      <td>2.998360</td>\n",
       "      <td>-0.233330</td>\n",
       "      <td>-2.006207</td>\n",
       "      <td>-2.589942</td>\n",
       "      <td>0.160915</td>\n",
       "      <td>...</td>\n",
       "      <td>-0.232284</td>\n",
       "      <td>-0.060629</td>\n",
       "      <td>-0.070381</td>\n",
       "      <td>-0.070469</td>\n",
       "      <td>0.033050</td>\n",
       "      <td>-0.084677</td>\n",
       "      <td>-0.070469</td>\n",
       "      <td>-0.674361</td>\n",
       "      <td>-0.452495</td>\n",
       "      <td>-0.354483</td>\n",
       "    </tr>\n",
       "    <tr>\n",
       "      <th>Equity(62 [ABT])</th>\n",
       "      <td>-0.507379</td>\n",
       "      <td>-0.172757</td>\n",
       "      <td>0.001126</td>\n",
       "      <td>-0.055808</td>\n",
       "      <td>-0.060126</td>\n",
       "      <td>0.032285</td>\n",
       "      <td>-0.044943</td>\n",
       "      <td>-0.543807</td>\n",
       "      <td>-2.894180</td>\n",
       "      <td>0.068194</td>\n",
       "      <td>...</td>\n",
       "      <td>-0.123300</td>\n",
       "      <td>-0.092391</td>\n",
       "      <td>-0.089298</td>\n",
       "      <td>-0.083257</td>\n",
       "      <td>0.054796</td>\n",
       "      <td>-0.098921</td>\n",
       "      <td>-0.083257</td>\n",
       "      <td>-0.072050</td>\n",
       "      <td>-0.495352</td>\n",
       "      <td>-0.053101</td>\n",
       "    </tr>\n",
       "    <tr>\n",
       "      <th>Equity(67 [ADSK])</th>\n",
       "      <td>0.824003</td>\n",
       "      <td>0.324926</td>\n",
       "      <td>0.037715</td>\n",
       "      <td>-0.032506</td>\n",
       "      <td>-0.381991</td>\n",
       "      <td>-0.271641</td>\n",
       "      <td>0.167925</td>\n",
       "      <td>0.189219</td>\n",
       "      <td>0.841506</td>\n",
       "      <td>-0.010781</td>\n",
       "      <td>...</td>\n",
       "      <td>0.054814</td>\n",
       "      <td>0.013500</td>\n",
       "      <td>0.024427</td>\n",
       "      <td>0.011309</td>\n",
       "      <td>0.218637</td>\n",
       "      <td>0.027717</td>\n",
       "      <td>0.011309</td>\n",
       "      <td>0.319680</td>\n",
       "      <td>0.089409</td>\n",
       "      <td>0.652117</td>\n",
       "    </tr>\n",
       "    <tr>\n",
       "      <th>Equity(76 [TAP])</th>\n",
       "      <td>1.733764</td>\n",
       "      <td>-0.302432</td>\n",
       "      <td>-0.003923</td>\n",
       "      <td>-0.052330</td>\n",
       "      <td>-0.191842</td>\n",
       "      <td>-0.249007</td>\n",
       "      <td>0.087288</td>\n",
       "      <td>-0.554174</td>\n",
       "      <td>-2.257662</td>\n",
       "      <td>0.051474</td>\n",
       "      <td>...</td>\n",
       "      <td>0.309170</td>\n",
       "      <td>-0.018794</td>\n",
       "      <td>-0.006379</td>\n",
       "      <td>-0.000841</td>\n",
       "      <td>0.039546</td>\n",
       "      <td>-0.024736</td>\n",
       "      <td>-0.000841</td>\n",
       "      <td>1.157637</td>\n",
       "      <td>-0.711801</td>\n",
       "      <td>-0.670424</td>\n",
       "    </tr>\n",
       "  </tbody>\n",
       "</table>\n",
       "<p>5 rows × 28 columns</p>\n",
       "</div>"
      ],
      "text/plain": [
       "                                             39 Week Returns  Asset Growth 3M  \\\n",
       "date                      security                                              \n",
       "2016-04-29 00:00:00+00:00 Equity(2 [ARNC])          0.061271        -0.130567   \n",
       "                          Equity(24 [AAPL])        -0.820415         0.210220   \n",
       "                          Equity(62 [ABT])         -0.507379        -0.172757   \n",
       "                          Equity(67 [ADSK])         0.824003         0.324926   \n",
       "                          Equity(76 [TAP])          1.733764        -0.302432   \n",
       "\n",
       "                                             Asset to Equity Ratio  \\\n",
       "date                      security                                   \n",
       "2016-04-29 00:00:00+00:00 Equity(2 [ARNC])                0.028741   \n",
       "                          Equity(24 [AAPL])               0.011032   \n",
       "                          Equity(62 [ABT])                0.001126   \n",
       "                          Equity(67 [ADSK])               0.037715   \n",
       "                          Equity(76 [TAP])               -0.003923   \n",
       "\n",
       "                                             Capex to Cashflows  \\\n",
       "date                      security                                \n",
       "2016-04-29 00:00:00+00:00 Equity(2 [ARNC])            -0.103404   \n",
       "                          Equity(24 [AAPL])           -0.040244   \n",
       "                          Equity(62 [ABT])            -0.055808   \n",
       "                          Equity(67 [ADSK])           -0.032506   \n",
       "                          Equity(76 [TAP])            -0.052330   \n",
       "\n",
       "                                             EBIT to Assets  EBITDA Yield  \\\n",
       "date                      security                                          \n",
       "2016-04-29 00:00:00+00:00 Equity(2 [ARNC])        -0.703530     -0.736978   \n",
       "                          Equity(24 [AAPL])        0.676811      2.998360   \n",
       "                          Equity(62 [ABT])        -0.060126      0.032285   \n",
       "                          Equity(67 [ADSK])       -0.381991     -0.271641   \n",
       "                          Equity(76 [TAP])        -0.191842     -0.249007   \n",
       "\n",
       "                                             MACD Signal Line  \\\n",
       "date                      security                              \n",
       "2016-04-29 00:00:00+00:00 Equity(2 [ARNC])          -0.361856   \n",
       "                          Equity(24 [AAPL])         -0.233330   \n",
       "                          Equity(62 [ABT])          -0.044943   \n",
       "                          Equity(67 [ADSK])          0.167925   \n",
       "                          Equity(76 [TAP])           0.087288   \n",
       "\n",
       "                                             Mean Reversion 1M  \\\n",
       "date                      security                               \n",
       "2016-04-29 00:00:00+00:00 Equity(2 [ARNC])            1.130081   \n",
       "                          Equity(24 [AAPL])          -2.006207   \n",
       "                          Equity(62 [ABT])           -0.543807   \n",
       "                          Equity(67 [ADSK])           0.189219   \n",
       "                          Equity(76 [TAP])           -0.554174   \n",
       "\n",
       "                                             Moneyflow Volume 5D  \\\n",
       "date                      security                                 \n",
       "2016-04-29 00:00:00+00:00 Equity(2 [ARNC])              0.143532   \n",
       "                          Equity(24 [AAPL])            -2.589942   \n",
       "                          Equity(62 [ABT])             -2.894180   \n",
       "                          Equity(67 [ADSK])             0.841506   \n",
       "                          Equity(76 [TAP])             -2.257662   \n",
       "\n",
       "                                             Net Income Margin  \\\n",
       "date                      security                               \n",
       "2016-04-29 00:00:00+00:00 Equity(2 [ARNC])           -0.062222   \n",
       "                          Equity(24 [AAPL])           0.160915   \n",
       "                          Equity(62 [ABT])            0.068194   \n",
       "                          Equity(67 [ADSK])          -0.010781   \n",
       "                          Equity(76 [TAP])            0.051474   \n",
       "\n",
       "                                                       ...              \\\n",
       "date                      security                     ...               \n",
       "2016-04-29 00:00:00+00:00 Equity(2 [ARNC])             ...               \n",
       "                          Equity(24 [AAPL])            ...               \n",
       "                          Equity(62 [ABT])             ...               \n",
       "                          Equity(67 [ADSK])            ...               \n",
       "                          Equity(76 [TAP])             ...               \n",
       "\n",
       "                                             Return250   Return3   Return4  \\\n",
       "date                      security                                           \n",
       "2016-04-29 00:00:00+00:00 Equity(2 [ARNC])   -0.195722  0.091440  0.088264   \n",
       "                          Equity(24 [AAPL])  -0.232284 -0.060629 -0.070381   \n",
       "                          Equity(62 [ABT])   -0.123300 -0.092391 -0.089298   \n",
       "                          Equity(67 [ADSK])   0.054814  0.013500  0.024427   \n",
       "                          Equity(76 [TAP])    0.309170 -0.018794 -0.006379   \n",
       "\n",
       "                                              Return5  Return60   Return7  \\\n",
       "date                      security                                          \n",
       "2016-04-29 00:00:00+00:00 Equity(2 [ARNC])   0.073684  0.589235  0.068571   \n",
       "                          Equity(24 [AAPL]) -0.070469  0.033050 -0.084677   \n",
       "                          Equity(62 [ABT])  -0.083257  0.054796 -0.098921   \n",
       "                          Equity(67 [ADSK])  0.011309  0.218637  0.027717   \n",
       "                          Equity(76 [TAP])  -0.000841  0.039546 -0.024736   \n",
       "\n",
       "                                              Returns  Trendline    Vol 3M  \\\n",
       "date                      security                                           \n",
       "2016-04-29 00:00:00+00:00 Equity(2 [ARNC])   0.073684   0.111162  1.168465   \n",
       "                          Equity(24 [AAPL]) -0.070469  -0.674361 -0.452495   \n",
       "                          Equity(62 [ABT])  -0.083257  -0.072050 -0.495352   \n",
       "                          Equity(67 [ADSK])  0.011309   0.319680  0.089409   \n",
       "                          Equity(76 [TAP])  -0.000841   1.157637 -0.711801   \n",
       "\n",
       "                                             Working Capital to Assets  \n",
       "date                      security                                      \n",
       "2016-04-29 00:00:00+00:00 Equity(2 [ARNC])                   -0.292498  \n",
       "                          Equity(24 [AAPL])                  -0.354483  \n",
       "                          Equity(62 [ABT])                   -0.053101  \n",
       "                          Equity(67 [ADSK])                   0.652117  \n",
       "                          Equity(76 [TAP])                   -0.670424  \n",
       "\n",
       "[5 rows x 28 columns]"
      ]
     },
     "execution_count": 9,
     "metadata": {},
     "output_type": "execute_result"
    }
   ],
   "source": [
    "results.head()"
   ]
  },
  {
   "cell_type": "code",
   "execution_count": 10,
   "metadata": {
    "collapsed": false
   },
   "outputs": [],
   "source": [
    "# Sometimes there are duplicated indexis\n",
    "results = results[~results.index.duplicated(keep='first')]\n",
    "# Massage data to be in the form expected by shift_mask_data()\n",
    "results_wo_returns = results.copy()\n",
    "returns = results_wo_returns.pop('Returns')\n",
    "Y = returns.unstack().values\n",
    "X = results_wo_returns.to_panel() \n",
    "X = X.swapaxes(2, 0).swapaxes(0, 1).values # (factors, time, stocks) -> (time, stocks, factors)\n",
    "results_wo_returns.index = results_wo_returns.index.set_levels(\n",
    "    results_wo_returns.index.get_level_values(1).map(lambda x: x.symbol), 1, )\n",
    "results_wo_returns.index = results_wo_returns.index.set_levels(\n",
    "    results_wo_returns.index.get_level_values(0).map(lambda x: x.date), 0, )\n",
    "\n",
    "# Train-test split\n",
    "train_size_perc = 0.5\n",
    "n_time, n_stocks, n_factors = X.shape\n",
    "train_size = np.int16(np.round(train_size_perc * n_time))\n",
    "X_train, Y_train = X[:train_size, ...], Y[:train_size]\n",
    "X_test, Y_test = X[(train_size+n_fwd_days):, ...], Y[(train_size+n_fwd_days):]"
   ]
  },
  {
   "cell_type": "code",
   "execution_count": 11,
   "metadata": {
    "collapsed": true
   },
   "outputs": [],
   "source": [
    "def shift_mask_data_absolut_return(X, Y, n_fwd_days=1):\n",
    "    # Shift X to match factors at t to returns at t+n_fwd_days (we want to predict future returns after all)\n",
    "    shifted_X = np.roll(X, n_fwd_days+1, axis=0)\n",
    "    \n",
    "    # Slice off rolled elements\n",
    "    X = shifted_X[n_fwd_days+1:]\n",
    "    Y = Y[n_fwd_days+1:]\n",
    "    \n",
    "    n_time, n_stocks, n_factors = X.shape\n",
    "    level=0.01\n",
    "    upper_mask = (Y > level)\n",
    "    lower_mask = (Y <= level)\n",
    "    \n",
    "    \n",
    "    # Try to predict the price go up to level \n",
    "    Y_binary = np.zeros(n_time * n_stocks)\n",
    "    Y_binary[upper_mask.flatten()] =  1\n",
    "    Y_binary[lower_mask.flatten()] = 0\n",
    "\n",
    "    # Flatten X\n",
    "    X = X.reshape((n_time * n_stocks, n_factors))\n",
    "    \n",
    "    return X, Y_binary"
   ]
  },
  {
   "cell_type": "code",
   "execution_count": 12,
   "metadata": {
    "collapsed": true
   },
   "outputs": [],
   "source": [
    "def shift_mask_data(X, Y, upper_percentile=60, lower_percentile=40, n_fwd_days=1):\n",
    "    # Shift X to match factors at t to returns at t+n_fwd_days (we want to predict future returns after all)\n",
    "    shifted_X = np.roll(X, n_fwd_days+1, axis=0)\n",
    "    \n",
    "    # Slice off rolled elements\n",
    "    X = shifted_X[n_fwd_days+1:]\n",
    "    Y = Y[n_fwd_days+1:]\n",
    "    \n",
    "    n_time, n_stocks, n_factors = X.shape\n",
    "    \n",
    "    # Look for biggest up and down movers\n",
    "    upper = np.nanpercentile(Y, upper_percentile, axis=1)[:, np.newaxis]\n",
    "    lower = np.nanpercentile(Y, lower_percentile, axis=1)[:, np.newaxis]\n",
    "  \n",
    "    upper_mask = (Y >= upper)\n",
    "    lower_mask = (Y <= lower)\n",
    "    \n",
    "    mask = upper_mask | lower_mask # This also drops nans\n",
    "    mask = mask.flatten()\n",
    "    \n",
    "    # Only try to predict whether a stock moved up/down relative to other stocks\n",
    "    Y_binary = np.zeros(n_time * n_stocks)\n",
    "    Y_binary[upper_mask.flatten()] = 0\n",
    "    Y_binary[lower_mask.flatten()] = 1\n",
    "    \n",
    "    # Flatten X\n",
    "    X = X.reshape((n_time * n_stocks, n_factors))\n",
    "\n",
    "    # Drop stocks that did not move much (i.e. are in the 30th to 70th percentile)\n",
    "    X = X[mask]\n",
    "    Y_binary = Y_binary[mask]\n",
    "    \n",
    "    return X, Y_binary"
   ]
  },
  {
   "cell_type": "code",
   "execution_count": 13,
   "metadata": {
    "collapsed": false
   },
   "outputs": [
    {
     "name": "stdout",
     "output_type": "stream",
     "text": [
      "(8683, 27) (11982, 27)\n",
      "(8683,) (11982,)\n"
     ]
    }
   ],
   "source": [
    "X_train_shift, Y_train_shift = shift_mask_data(X_train, Y_train, n_fwd_days=n_fwd_days, \n",
    "                                             lower_percentile=30,\n",
    "                                             upper_percentile=70)\n",
    "X_test_shift, Y_test_shift = shift_mask_data(X_test, Y_test, n_fwd_days=n_fwd_days, \n",
    "                                             lower_percentile=50, \n",
    "                                             upper_percentile=50)\n",
    "\n",
    "print X_train_shift.shape, X_test_shift.shape\n",
    "print Y_train_shift.shape, Y_test_shift.shape"
   ]
  },
  {
   "cell_type": "code",
   "execution_count": 14,
   "metadata": {
    "collapsed": false
   },
   "outputs": [
    {
     "name": "stdout",
     "output_type": "stream",
     "text": [
      "(8683, 27) (11982, 27)\n"
     ]
    }
   ],
   "source": [
    "imputer = preprocessing.Imputer()\n",
    "scaler = preprocessing.MinMaxScaler()\n",
    "X_train_trans = imputer.fit_transform(X_train_shift)\n",
    "X_train_trans = scaler.fit_transform(X_train_trans)\n",
    "X_test_trans = imputer.transform(X_test_shift)\n",
    "X_test_trans = scaler.transform(X_test_trans)\n",
    "print X_train_trans.shape, X_test_trans.shape"
   ]
  },
  {
   "cell_type": "code",
   "execution_count": 15,
   "metadata": {
    "collapsed": false
   },
   "outputs": [],
   "source": [
    "cls_metrics = {\n",
    "            'accuracy': metrics.accuracy_score,\n",
    "            'precision':metrics.precision_score,\n",
    "            'recall': metrics.recall_score ,\n",
    "            'f1':metrics.f1_score,  \n",
    "                }\n",
    "metric_colors = {\n",
    "            'accuracy': 'r',\n",
    "             'precision':'b',\n",
    "            'recall': 'g' ,\n",
    "            'f1':'orange',\n",
    "            'time':'blue',\n",
    "            'time_PCA':'black'\n",
    "                }"
   ]
  },
  {
   "cell_type": "code",
   "execution_count": 16,
   "metadata": {
    "collapsed": false
   },
   "outputs": [
    {
     "name": "stdout",
     "output_type": "stream",
     "text": [
      "1 2 3 5 6 7 15 10 40 50 100 200 300 500\n"
     ]
    }
   ],
   "source": [
    "metric_results_RF={}\n",
    "for metric in cls_metrics:\n",
    "    metric_results_RF.update({metric:[]})\n",
    "    metric_results_RF.update({'time':[]});\n",
    "depths =  np.array([1,2,3,5,6,7,15,10,40,50,100,200,300,500])\n",
    "    \n",
    "for depth in depths:\n",
    "    start_timer = time()\n",
    "    clf = ensemble.RandomForestClassifier(max_depth=depth,n_estimators=100) \n",
    "    clf.fit(X_train_trans, Y_train_shift)\n",
    "    \n",
    "    Y_pred_test = clf.predict(X_test_trans)\n",
    "    end_timer = time()\n",
    "    print depth,\n",
    "    \n",
    "    for metric in cls_metrics:         \n",
    "        temp = cls_metrics[metric](Y_test_shift, Y_pred_test)\n",
    "        metric_results_RF[metric].append(temp)\n",
    "    \n",
    "    metric_results_RF['time'].append(end_timer-start_timer)\n",
    "    \n"
   ]
  },
  {
   "cell_type": "code",
   "execution_count": 17,
   "metadata": {
    "collapsed": false
   },
   "outputs": [
    {
     "data": {
      "image/png": "[encoded data removed]",
      "text/plain": [
       "<matplotlib.figure.Figure at 0x7fe4b4450690>"
      ]
     },
     "metadata": {},
     "output_type": "display_data"
    },
    {
     "data": {
      "image/png": "[encoded data removed]",
      "text/plain": [
       "<matplotlib.figure.Figure at 0x7fe4c40511d0>"
      ]
     },
     "metadata": {},
     "output_type": "display_data"
    },
    {
     "name": "stdout",
     "output_type": "stream",
     "text": [
      "f1 for depth 3 max value 0.531916555981\n",
      "recall for depth 3 max value 0.567333333333\n",
      "precision for depth 100 max value 0.504880511612\n",
      "accuracy for depth 6 max value 0.504172926056\n"
     ]
    }
   ],
   "source": [
    "mywidth = 0.1\n",
    "shift = -(len(cls_metrics)-1)/2*mywidth\n",
    "\n",
    "for metric in cls_metrics:\n",
    "       \n",
    "    plt.bar(np.array(range(1,len(depths)+1))+shift, metric_results_RF[metric], width=mywidth,\n",
    "        label = metric, color=metric_colors[metric])\n",
    "    shift += mywidth\n",
    "   \n",
    "plt.title(\"Comparing depth\")\n",
    "plt.xlabel('Maximum depth')\n",
    "plt.legend(bbox_to_anchor=(1.05, 1), loc=2, borderaxespad=0.)\n",
    "plt.xticks(np.array(range(1,len(depths)+1)), depths, rotation='vertical')\n",
    "plt.ylim((0.45,0.62))\n",
    "plt.show()    \n",
    "\n",
    "plt.bar(np.array(range(1,len(depths)+1)), metric_results_RF['time'], width=mywidth,\n",
    "        label = 'time', color=metric_colors[metric])\n",
    "plt.title(\"Time to train\")\n",
    "plt.xlabel('Maximum depth')\n",
    "plt.legend(bbox_to_anchor=(1.05, 1), loc=2, borderaxespad=0.)\n",
    "plt.xticks(np.array(range(1,len(depths)+1)), depths, rotation='vertical')\n",
    "\n",
    "plt.show()\n",
    "\n",
    "for metric in cls_metrics:\n",
    "    print metric, 'for depth', depths[np.argmax(metric_results_RF[metric])] \\\n",
    "    ,'max value', max(metric_results_RF[metric])"
   ]
  },
  {
   "cell_type": "code",
   "execution_count": null,
   "metadata": {
    "collapsed": false
   },
   "outputs": [],
   "source": []
  },
  {
   "cell_type": "code",
   "execution_count": null,
   "metadata": {
    "collapsed": false
   },
   "outputs": [],
   "source": []
  },
  {
   "cell_type": "code",
   "execution_count": 19,
   "metadata": {
    "collapsed": false
   },
   "outputs": [
    {
     "name": "stdout",
     "output_type": "stream",
     "text": [
      "10 20 30 35 40 45 50 70 100 200 300 400 500\n"
     ]
    }
   ],
   "source": [
    "metric_results_RF={}\n",
    "for metric in cls_metrics:\n",
    "    metric_results_RF.update({metric:[]})\n",
    "    metric_results_RF.update({'time':[]});\n",
    "    \n",
    "estimators =  np.array([10,20,30,35,40,45,50,70,100,200,300,400,500,])\n",
    "    \n",
    "for estimator in estimators:\n",
    "    start_timer = time()\n",
    "    clf = ensemble.RandomForestClassifier(max_depth=30,n_estimators=estimator) \n",
    "    clf.fit(X_train_trans, Y_train_shift)\n",
    "    \n",
    "    Y_pred_test = clf.predict(X_test_trans)\n",
    "    end_timer = time()\n",
    "    print estimator,\n",
    "    \n",
    "    for metric in cls_metrics:         \n",
    "        temp = cls_metrics[metric](Y_test_shift, Y_pred_test)\n",
    "        metric_results_RF[metric].append(temp)\n",
    "    \n",
    "    metric_results_RF['time'].append(end_timer-start_timer)\n"
   ]
  },
  {
   "cell_type": "code",
   "execution_count": 26,
   "metadata": {
    "collapsed": false
   },
   "outputs": [
    {
     "data": {
      "image/png": "[encoded data removed]",
      "text/plain": [
       "<matplotlib.figure.Figure at 0x7fe4b93f0b90>"
      ]
     },
     "metadata": {},
     "output_type": "display_data"
    },
    {
     "data": {
      "image/png": "[encoded data removed]",
      "text/plain": [
       "<matplotlib.figure.Figure at 0x7fe4b1e5b0d0>"
      ]
     },
     "metadata": {},
     "output_type": "display_data"
    },
    {
     "name": "stdout",
     "output_type": "stream",
     "text": [
      "max f1 for variable 35 max value 0.516868547273\n",
      "max recall for variable 35 max value 0.529833333333\n",
      "max precision for variable 30 max value 0.510719476744\n",
      "max accuracy for variable 30 max value 0.509096978802\n"
     ]
    }
   ],
   "source": [
    "mywidth = 0.1\n",
    "shift = -(len(cls_metrics)-1)/2*mywidth\n",
    "\n",
    "for metric in cls_metrics:\n",
    "       \n",
    "    plt.bar(np.array(range(1,len(estimators)+1))+shift, metric_results_RF[metric], width=mywidth,\n",
    "        label = metric, color=metric_colors[metric])\n",
    "    shift += mywidth\n",
    "   \n",
    "plt.title(\"Comparing number of estimators\")\n",
    "plt.xlabel('Number of estimators')\n",
    "plt.legend(bbox_to_anchor=(1.05, 1), loc=2, borderaxespad=0.)\n",
    "plt.xticks(np.array(range(1,len(estimators)+1)), estimators, rotation='vertical')\n",
    "plt.ylim((0.4,0.55))\n",
    "plt.show()    \n",
    "\n",
    "plt.bar(np.array(range(1,len(estimators)+1)), metric_results_RF['time'], width=mywidth,\n",
    "        label = 'time', color=metric_colors[metric])\n",
    "plt.title(\"Time to train\")\n",
    "plt.xlabel('Number of estimators')\n",
    "plt.legend(bbox_to_anchor=(1.05, 1), loc=2, borderaxespad=0.)\n",
    "plt.xticks(np.array(range(1,len(estimators)+1)), estimators, rotation='vertical')\n",
    "plt.show()\n",
    "\n",
    "for metric in cls_metrics:\n",
    "    print 'max', metric, 'for variable', estimators[np.argmax(metric_results_RF[metric])] \\\n",
    "    ,'max value', max(metric_results_RF[metric])"
   ]
  },
  {
   "cell_type": "code",
   "execution_count": 33,
   "metadata": {
    "collapsed": false
   },
   "outputs": [
    {
     "name": "stdout",
     "output_type": "stream",
     "text": [
      "1 2 3 4 5 6 7 8 9 10 11 12 13 14 15 16 17 18\n"
     ]
    }
   ],
   "source": [
    "metric_results_RF={}\n",
    "for metric in cls_metrics:\n",
    "    metric_results_RF.update({metric:[]})\n",
    "    metric_results_RF.update({'time':[]});\n",
    "    \n",
    "changed_variables =  np.array([1,2,3,4,5,6,7,8,9,10,11,12,13,14,15,16,17,18])\n",
    "    \n",
    "for changed_variable in changed_variables:\n",
    "    start_timer = time()\n",
    "    clf = ensemble.RandomForestClassifier(max_depth=30,n_estimators=30,max_features= changed_variable) \n",
    "    clf.fit(X_train_trans, Y_train_shift)\n",
    "    \n",
    "    Y_pred_test = clf.predict(X_test_trans)\n",
    "    end_timer = time()\n",
    "    print changed_variable,\n",
    "    \n",
    "    for metric in cls_metrics:         \n",
    "        temp = cls_metrics[metric](Y_test_shift, Y_pred_test)\n",
    "        metric_results_RF[metric].append(temp)\n",
    "    \n",
    "    metric_results_RF['time'].append(end_timer-start_timer)"
   ]
  },
  {
   "cell_type": "code",
   "execution_count": 32,
   "metadata": {
    "collapsed": false
   },
   "outputs": [
    {
     "data": {
      "image/png": "[encoded data removed]",
      "text/plain": [
       "<matplotlib.figure.Figure at 0x7fe4b49358d0>"
      ]
     },
     "metadata": {},
     "output_type": "display_data"
    },
    {
     "data": {
      "image/png": "[encoded data removed]",
      "text/plain": [
       "<matplotlib.figure.Figure at 0x7fe4b967f0d0>"
      ]
     },
     "metadata": {},
     "output_type": "display_data"
    },
    {
     "name": "stdout",
     "output_type": "stream",
     "text": [
      "max f1 for max features 11 max value 0.504468387205\n",
      "max recall for max features 11 max value 0.503333333333\n",
      "max precision for max features 11 max value 0.505608571907\n",
      "max accuracy for max features 11 max value 0.504840594225\n"
     ]
    }
   ],
   "source": [
    "mywidth = 0.1\n",
    "shift = -(len(cls_metrics)-1)/2*mywidth\n",
    "\n",
    "for metric in cls_metrics:\n",
    "       \n",
    "    plt.bar(np.array(range(1,len(changed_variables)+1))+shift, metric_results_RF[metric], width=mywidth,\n",
    "        label = metric, color=metric_colors[metric])\n",
    "    shift += mywidth\n",
    "   \n",
    "plt.title(\"Comparing max features\")\n",
    "plt.xlabel('Maximum features')\n",
    "plt.legend(bbox_to_anchor=(1.05, 1), loc=2, borderaxespad=0.)\n",
    "plt.xticks(np.array(range(1,len(changed_variables)+1)), changed_variables, rotation='vertical')\n",
    "plt.ylim((0.45,0.52))\n",
    "plt.show()    \n",
    "\n",
    "plt.bar(np.array(range(1,len(changed_variables)+1)), metric_results_RF['time'], width=mywidth,\n",
    "        label = 'time', color=metric_colors[metric])\n",
    "plt.title(\"Time to train\")\n",
    "plt.xlabel('Maximum feauters')\n",
    "plt.legend(bbox_to_anchor=(1.05, 1), loc=2, borderaxespad=0.)\n",
    "plt.xticks(np.array(range(1,len(changed_variables)+1)), changed_variables, rotation='vertical')\n",
    "plt.show()\n",
    "\n",
    "for metric in cls_metrics:\n",
    "    print 'max', metric, 'for max features', changed_variables[np.argmax(metric_results_RF[metric])] \\\n",
    "    ,'max value', max(metric_results_RF[metric])"
   ]
  },
  {
   "cell_type": "code",
   "execution_count": null,
   "metadata": {
    "collapsed": true
   },
   "outputs": [],
   "source": []
  },
  {
   "cell_type": "code",
   "execution_count": 59,
   "metadata": {
    "collapsed": true
   },
   "outputs": [
    {
     "name": "stdout",
     "output_type": "stream",
     "text": [
      "depth 1 est 10 feat 1 0.487387387387\n",
      "depth 1 est 10 feat 2 0.493410543131\n",
      "depth 1 est 10 feat 3 0.513831875781\n",
      "depth 1 est 10 feat 4 0.4754330152\n",
      "depth 1 est 10 feat 5 0.475106082037\n",
      "depth 1 est 20 feat 1 0.488780657506\n",
      "depth 1 est 20 feat 2 0.489337395278\n",
      "depth 1 est 20 feat 3 0.468427835052\n",
      "depth 1 est 20 feat 4 0.473607305936\n",
      "depth 1 est 20 feat 5 0.500614574188\n",
      "depth 1 est 30 feat 1 0.501414074197\n",
      "depth 1 est 30 feat 2 0.4636148382\n",
      "depth 1 est 30 feat 3 0.521317829457\n",
      "depth 1 est 30 feat 4 0.465758034663\n",
      "depth 1 est 30 feat 5 0.50858652576\n",
      "depth 1 est 35 feat 1 0.517598994343\n",
      "depth 1 est 35 feat 2 0.477408220897\n",
      "depth 1 est 35 feat 3 0.489649272883\n",
      "depth 1 est 35 feat 4 0.514992376758\n",
      "depth 1 est 35 feat 5 0.491803278689\n",
      "depth 1 est 40 feat 1 0.497166666667\n",
      "depth 1 est 40 feat 2 0.464073300113\n",
      "depth 1 est 40 feat 3 0.477065739361\n",
      "depth 1 est 40 feat 4 0.457856567284\n",
      "depth 1 est 40 feat 5 0.506164383562\n",
      "depth 2 est 10 feat 1 0.511506110141\n",
      "depth 2 est 10 feat 2 0.471170992669\n",
      "depth 2 est 10 feat 3 0.509524690216\n",
      "depth 2 est 10 feat 4 0.459074136196\n",
      "depth 2 est 10 feat 5 0.463964727828\n",
      "depth 2 est 20 feat 1 0.493282468071\n",
      "depth 2 est 20 feat 2 0.503606202669\n",
      "depth 2 est 20 feat 3 0.468709677419\n",
      "depth 2 est 20 feat 4 0.489021956088\n",
      "depth 2 est 20 feat 5 0.481350729087\n",
      "depth 2 est 30 feat 1 0.466263103499\n",
      "depth 2 est 30 feat 2 0.483424193311\n",
      "depth 2 est 30 feat 3 0.524881083059\n",
      "depth 2 est 30 feat 4 0.534810710988\n",
      "depth 2 est 30 feat 5 0.517098775251\n",
      "depth 2 est 35 feat 1 0.472053126729\n",
      "depth 2 est 35 feat 2 0.517192651908\n",
      "depth 2 est 35 feat 3 0.471063257066\n",
      "depth 2 est 35 feat 4 0.485326547922\n",
      "depth 2 est 35 feat 5 0.496739130435\n",
      "depth 2 est 40 feat 1 0.473674720519\n",
      "depth 2 est 40 feat 2 0.479015918958\n",
      "depth 2 est 40 feat 3 0.487340800982\n",
      "depth 2 est 40 feat 4 0.461903981648\n",
      "depth 2 est 40 feat 5 0.48075087496\n",
      "depth 3 est 10 feat 1 0.515897755611\n",
      "depth 3 est 10 feat 2 0.477353607247\n",
      "depth 3 est 10 feat 3 0.480939310765\n",
      "depth 3 est 10 feat 4 0.487338409775\n",
      "depth 3 est 10 feat 5 0.471078352828\n",
      "depth 3 est 20 feat 1 0.508512330947\n",
      "depth 3 est 20 feat 2 0.48836776475\n",
      "depth 3 est 20 feat 3 0.478680879414\n",
      "depth 3 est 20 feat 4 0.498087807863\n",
      "depth 3 est 20 feat 5 0.496555946732\n",
      "depth 3 est 30 feat 1 0.47192353644\n",
      "depth 3 est 30 feat 2 0.499652173913\n",
      "depth 3 est 30 feat 3 0.477867368767\n",
      "depth 3 est 30 feat 4 0.464353312303\n",
      "depth 3 est 30 feat 5 0.493751904907\n",
      "depth 3 est 35 feat 1 0.493530813756\n",
      "depth 3 est 35 feat 2 0.484830369153\n",
      "depth 3 est 35 feat 3 0.506415333439\n",
      "depth 3 est 35 feat 4 0.482535774735\n",
      "depth 3 est 35 feat 5 0.493502475248\n",
      "depth 3 est 40 feat 1 0.471509281679\n",
      "depth 3 est 40 feat 2 0.493415569262\n",
      "depth 3 est 40 feat 3 0.46954444634\n",
      "depth 3 est 40 feat 4 0.494786875192\n",
      "depth 3 est 40 feat 5 0.485691318328\n",
      "depth 5 est 10 feat 1 0.478635547576\n",
      "depth 5 est 10 feat 2 0.4937973256\n",
      "depth 5 est 10 feat 3 0.48612074948\n",
      "depth 5 est 10 feat 4 0.49954058193\n",
      "depth 5 est 10 feat 5 0.500561527354\n",
      "depth 5 est 20 feat 1 0.501704647407\n",
      "depth 5 est 20 feat 2 0.493695758965\n",
      "depth 5 est 20 feat 3 0.495505269684\n",
      "depth 5 est 20 feat 4 0.485705358538\n",
      "depth 5 est 20 feat 5 0.498228861851\n",
      "depth 5 est 30 feat 1 0.493880489561\n",
      "depth 5 est 30 feat 2 0.484839156534\n",
      "depth 5 est 30 feat 3 0.489924433249\n",
      "depth 5 est 30 feat 4 0.489848484848\n",
      "depth 5 est 30 feat 5 0.500940733772\n",
      "depth 5 est 35 feat 1 0.500173190163\n",
      "depth 5 est 35 feat 2 0.491904523452\n",
      "depth 5 est 35 feat 3 0.483552098525\n",
      "depth 5 est 35 feat 4 0.497241922774\n",
      "depth 5 est 35 feat 5 0.485874824411\n",
      "depth 5 est 40 feat 1 0.50046889653\n",
      "depth 5 est 40 feat 2 0.490139023602\n",
      "depth 5 est 40 feat 3 0.491828553808\n",
      "depth 5 est 40 feat 4 0.499764113854\n",
      "depth 5 est 40 feat 5 0.500154368632\n",
      "depth 6 est 10 feat 1 0.490450725745\n",
      "depth 6 est 10 feat 2 0.494830602831\n",
      "depth 6 est 10 feat 3 0.508102037542\n",
      "depth 6 est 10 feat 4 0.513571311071\n",
      "depth 6 est 10 feat 5 0.512576031563\n",
      "depth 6 est 20 feat 1 0.488315084164\n",
      "depth 6 est 20 feat 2 0.492145748988\n",
      "depth 6 est 20 feat 3 0.50203285087\n",
      "depth 6 est 20 feat 4 0.496762706377\n",
      "depth 6 est 20 feat 5 0.503561145628\n",
      "depth 6 est 30 feat 1 0.485448392555\n",
      "depth 6 est 30 feat 2 0.495153473344\n",
      "depth 6 est 30 feat 3 0.495926849543\n",
      "depth 6 est 30 feat 4 0.496172581768\n",
      "depth 6 est 30 feat 5 0.490410104475\n",
      "depth 6 est 35 feat 1 0.501138581653\n",
      "depth 6 est 35 feat 2 0.492832984378\n",
      "depth 6 est 35 feat 3 0.500699735655\n",
      "depth 6 est 35 feat 4 0.498081841432\n",
      "depth 6 est 35 feat 5 0.497862232779\n",
      "depth 6 est 40 feat 1 0.486536833192\n",
      "depth 6 est 40 feat 2 0.496829105474\n",
      "depth 6 est 40 feat 3 0.4945105215\n",
      "depth 6 est 40 feat 4 0.498193166886\n",
      "depth 6 est 40 feat 5 0.508594858855\n",
      "depth 7 est 10 feat 1 0.505034101981\n",
      "depth 7 est 10 feat 2 0.50150200267\n",
      "depth 7 est 10 feat 3 0.509477577439\n",
      "depth 7 est 10 feat 4 0.498875730775\n",
      "depth 7 est 10 feat 5 0.498659068052\n",
      "depth 7 est 20 feat 1 0.48642306403\n",
      "depth 7 est 20 feat 2 0.505721192587\n",
      "depth 7 est 20 feat 3 0.497738287561\n",
      "depth 7 est 20 feat 4 0.499834382246\n",
      "depth 7 est 20 feat 5 0.504508706468\n",
      "depth 7 est 30 feat 1 0.501103752759\n",
      "depth 7 est 30 feat 2 0.504864311316\n",
      "depth 7 est 30 feat 3 0.490336924919\n",
      "depth 7 est 30 feat 4 0.493038493038\n",
      "depth 7 est 30 feat 5 0.502066772655\n",
      "depth 7 est 35 feat 1 0.491968197307\n",
      "depth 7 est 35 feat 2 0.488169155899\n",
      "depth 7 est 35 feat 3 0.490297542044\n",
      "depth 7 est 35 feat 4 0.496785599486\n",
      "depth 7 est 35 feat 5 0.507736293306\n",
      "depth 7 est 40 feat 1 0.494597839136\n",
      "depth 7 est 40 feat 2 0.486097639832\n",
      "depth 7 est 40 feat 3 0.505114466634\n",
      "depth 7 est 40 feat 4 0.488394741113\n",
      "depth 7 est 40 feat 5 0.500596557014\n",
      "depth 15 est 10 feat 1 0.494729683781\n",
      "depth 15 est 10 feat 2 0.5\n",
      "depth 15 est 10 feat 3 0.502278645833\n",
      "depth 15 est 10 feat 4 0.50604432505\n",
      "depth 15 est 10 feat 5 0.48624008104\n",
      "depth 15 est 20 feat 1 0.49991416309\n",
      "depth 15 est 20 feat 2 0.502137454785\n",
      "depth 15 est 20 feat 3 0.499669639907\n",
      "depth 15 est 20 feat 4 0.500430811649\n",
      "depth 15 est 20 feat 5 0.50265914585\n",
      "depth 15 est 30 feat 1 0.506070908208\n",
      "depth 15 est 30 feat 2 0.49674137657\n",
      "depth 15 est 30 feat 3 0.504294279695\n",
      "depth 15 est 30 feat 4 0.50569025235\n",
      "depth 15 est 30 feat 5 0.488391376451\n",
      "depth 15 est 35 feat 1 0.499366085578\n",
      "depth 15 est 35 feat 2 0.498229043684\n",
      "depth 15 est 35 feat 3 0.500483558994\n",
      "depth 15 est 35 feat 4 0.507160096541\n",
      "depth 15 est 35 feat 5 0.488047808765\n",
      "depth 15 est 40 feat 1 0.500572363042\n",
      "depth 15 est 40 feat 2 0.488619616833\n",
      "depth 15 est 40 feat 3 0.499073294019\n",
      "depth 15 est 40 feat 4 0.501572066854\n",
      "depth 15 est 40 feat 5 0.499674690956\n",
      "depth 10 est 10 feat 1 0.499656239257\n",
      "depth 10 est 10 feat 2 0.499848484848\n",
      "depth 10 est 10 feat 3 0.497884344147\n",
      "depth 10 est 10 feat 4 0.504451510334\n",
      "depth 10 est 10 feat 5 0.499445061043\n",
      "depth 10 est 20 feat 1 0.483717235902\n",
      "depth 10 est 20 feat 2 0.508375345585\n",
      "depth 10 est 20 feat 3 0.509658246657\n",
      "depth 10 est 20 feat 4 0.503372265175\n",
      "depth 10 est 20 feat 5 0.491324657991\n",
      "depth 10 est 30 feat 1 0.492841862761\n",
      "depth 10 est 30 feat 2 0.492650545282\n",
      "depth 10 est 30 feat 3 0.498202614379\n",
      "depth 10 est 30 feat 4 0.488568588469\n",
      "depth 10 est 30 feat 5 0.506906307206\n",
      "depth 10 est 35 feat 1 0.491305054445\n",
      "depth 10 est 35 feat 2 0.495435684647\n",
      "depth 10 est 35 feat 3 0.501472513089\n",
      "depth 10 est 35 feat 4 0.496253512332\n",
      "depth 10 est 35 feat 5 0.500985221675\n",
      "depth 10 est 40 feat 1 0.500969618617\n",
      "depth 10 est 40 feat 2 0.492681357568\n",
      "depth 10 est 40 feat 3 0.505974842767\n",
      "depth 10 est 40 feat 4 0.497459349593\n",
      "depth 10 est 40 feat 5 0.503644905232\n"
     ]
    }
   ],
   "source": [
    "metric_results_RF={}\n",
    "for metric in cls_metrics:\n",
    "    metric_results_RF.update({metric:[]})\n",
    "    metric_results_RF.update({'time':[]})\n",
    "    metric_results_RF.update({'depth':[]})\n",
    "    metric_results_RF.update({'estimator':[]})\n",
    "    metric_results_RF.update({'feature':[]})\n",
    "    \n",
    "depths =  np.array([1,2,3,5,6,7,10,15,20,35,40,50,60,100,200])\n",
    "features =  np.array([1,2,3,4,5,6,7,8,9,10,11,12,13,14,15,16,17,18,19,20,21,22,23,24,25,26,27])\n",
    "estimators =  np.array([10,20,30,35,40,50,60,70,90,100,200,300,400])\n",
    "\n",
    "\n",
    "for depth in depths:\n",
    "    for feature in features:\n",
    "        for estimator in estimators:  \n",
    "            start_timer = time()\n",
    "            clf = ensemble.RandomForestClassifier(max_depth=depth,n_estimators=estimator,max_features= feature) \n",
    "            clf.fit(X_train_trans, Y_train_shift)\n",
    "            Y_pred_test = clf.predict(X_test_trans)\n",
    "            end_timer = time()\n",
    "            print 'depth',depth, 'feat', feature, 'est', estimator , \\\n",
    "            cls_metrics['precision'](Y_test_shift, Y_pred_test), end_timer-start_timer\n",
    "\n",
    "            for metric in cls_metrics:         \n",
    "                temp = cls_metrics[metric](Y_test_shift, Y_pred_test)\n",
    "                metric_results_RF[metric].append(temp)\n",
    "\n",
    "            metric_results_RF['time'].append(end_timer-start_timer)\n",
    "            metric_results_RF['depth'].append(depth)\n",
    "            metric_results_RF['estimator'].append(estimator)\n",
    "            metric_results_RF['feature'].append(feature)"
   ]
  },
  {
   "cell_type": "code",
   "execution_count": 58,
   "metadata": {
    "collapsed": false
   },
   "outputs": [
    {
     "name": "stdout",
     "output_type": "stream",
     "text": [
      "max f1 max value 0.550123530733 for  depth 1 estimator 30 feature 1\n",
      "max recall max value 0.612333333333 for  depth 1 estimator 30 feature 1\n",
      "max precision max value 0.53929807217 for  depth 1 estimator 10 feature 5\n",
      "max accuracy max value 0.539058587882 for  depth 1 estimator 10 feature 5\n"
     ]
    }
   ],
   "source": [
    "for metric in cls_metrics:\n",
    "    print 'max', metric, 'max value', max(metric_results_RF[metric]), 'for ' ,\\\n",
    "    'depth', metric_results_RF['depth'][np.argmax(metric_results_RF[metric])],\\\n",
    "    'estimator', metric_results_RF['estimator'][np.argmax(metric_results_RF[metric])],\\\n",
    "    'feature', metric_results_RF['feature'][np.argmax(metric_results_RF[metric])]\n",
    "    \n",
    "        \n",
    "        \n",
    "    "
   ]
  },
  {
   "cell_type": "code",
   "execution_count": 42,
   "metadata": {
    "collapsed": false
   },
   "outputs": [
    {
     "data": {
      "text/plain": [
       "1"
      ]
     },
     "execution_count": 42,
     "metadata": {},
     "output_type": "execute_result"
    }
   ],
   "source": [
    "metric_results_RF['depth'][10]"
   ]
  },
  {
   "cell_type": "code",
   "execution_count": null,
   "metadata": {
    "collapsed": true
   },
   "outputs": [],
   "source": []
  },
  {
   "cell_type": "code",
   "execution_count": null,
   "metadata": {
    "collapsed": true
   },
   "outputs": [],
   "source": []
  },
  {
   "cell_type": "code",
   "execution_count": null,
   "metadata": {
    "collapsed": false
   },
   "outputs": [],
   "source": [
    "metric_results_PCA={}\n",
    "for metric in cls_metrics:\n",
    "    metric_results_PCA.update({metric:[]});\n",
    "    metric_results_PCA.update({'time':[]});\n",
    "    metric_results_PCA.update({'time_PCA':[]});\n",
    "pca_numbers = np.array(range(1,X.shape[2]+1))  \n",
    "clf = ensemble.RandomForestClassifier(max_depth=30,n_estimators=50) \n",
    "    \n",
    "for pca_number in pca_numbers :\n",
    "    print pca_number,\n",
    "    pca=decomposition.PCA(n_components = pca_number)\n",
    "    start_timer_PCA=time()\n",
    "    X_train_trans_PCA = pca.fit_transform(X_train_trans)\n",
    "    X_test_trans_PCA = pca.transform(X_test_trans)\n",
    "    end_timer_PCA=time()\n",
    "    \n",
    "    start_timer=time()\n",
    "    clf.fit(X_train_trans_PCA, Y_train_shift)\n",
    "    Y_pred_test_PCA    = clf.predict(X_test_trans_PCA)\n",
    "    end_timer=time()\n",
    "\n",
    "    \n",
    "    for metric in cls_metrics:         \n",
    "        temp = cls_metrics[metric](Y_test_shift, Y_pred_test_PCA)\n",
    "        metric_results_PCA[metric].append(temp)\n",
    "    \n",
    "    metric_results_PCA['time'].append(end_timer-start_timer)\n",
    "    metric_results_PCA['time_PCA'].append(end_timer_PCA-start_timer_PCA)\n",
    "\n"
   ]
  },
  {
   "cell_type": "code",
   "execution_count": null,
   "metadata": {
    "collapsed": false
   },
   "outputs": [],
   "source": [
    "mywidth =0.1  \n",
    "shift=-(len(cls_metrics)-1)/2*mywidth\n",
    "for metric in cls_metrics:\n",
    "        \n",
    "    plt.bar(pca_numbers+shift, metric_results_PCA[metric], width=mywidth,\n",
    "        label = metric, color=metric_colors[metric])\n",
    "    shift += mywidth\n",
    "   \n",
    "\n",
    "plt.title(\"Comparing numbers of components in PCA\")\n",
    "plt.xlabel('Numbers of components')\n",
    "plt.legend(bbox_to_anchor=(1.05, 1), loc=2, borderaxespad=0.)\n",
    "plt.ylim((0.46,0.56))\n",
    "plt.show()\n",
    "\n",
    "plt.bar(np.array(range(1,len(pca_numbers)+1))-mywidth, metric_results_PCA['time'], width=mywidth,\n",
    "        label = 'time to train RF', color='r')\n",
    "plt.bar(np.array(range(1,len(pca_numbers)+1)), metric_results_PCA['time_PCA'], width=mywidth,\n",
    "        label = 'time to train PCA', color='orange')\n",
    "\n",
    "plt.title(\"Time to train\")\n",
    "plt.xlabel('Number of components')\n",
    "plt.xticks(np.array(range(1,len(pca_numbers)+1)), pca_numbers, rotation='vertical')\n",
    "plt.legend(bbox_to_anchor=(1.05, 1), loc=2, borderaxespad=0.)\n",
    "plt.show()\n",
    "\n",
    "\n",
    "\n",
    "for metric in cls_metrics:\n",
    "    print 'max', metric, 'for number of components', pca_numbers[np.argmax(metric_results_PCA[metric])] \\\n",
    "    ,'max value', max(metric_results_PCA[metric])"
   ]
  },
  {
   "cell_type": "code",
   "execution_count": null,
   "metadata": {
    "collapsed": true
   },
   "outputs": [],
   "source": [
    "def get_last_values(input_data):\n",
    "    last_values = []\n",
    "    for dataset in input_data:\n",
    "        last_values.append(dataset[-1])\n",
    "    return np.vstack(last_values).T"
   ]
  },
  {
   "cell_type": "code",
   "execution_count": null,
   "metadata": {
    "collapsed": true
   },
   "outputs": [],
   "source": [
    "class ML(CustomFactor):\n",
    "    init = False\n",
    "    def compute(self, today, assets, out, returns, *inputs):\n",
    "        # inputs is a list of factors, for example, assume we have 2 alpha signals, 3 stocks,\n",
    "        # and a lookback of 2 days. Each element in the inputs list will be data of\n",
    "        # one signal, so len(inputs) == 2. Then each element will contain a 2-D array\n",
    "        # of shape [time x stocks]. For example:\n",
    "        # inputs[0]:\n",
    "        # [[1, 3, 2], # factor 1 rankings of day t-1 for 3 stocks  \n",
    "        #  [3, 2, 1]] # factor 1 rankings of day t for 3 stocks\n",
    "        # inputs[1]:\n",
    "        # [[2, 3, 1], # factor 2 rankings of day t-1 for 3 stocks\n",
    "        #  [1, 2, 3]] # factor 2 rankings of day t for 3 stocks\n",
    "        \n",
    "        if (not self.init) or (today.weekday == 0): # Monday\n",
    "            # Instantiate sklearn objects\n",
    "            self.imputer = imputer\n",
    "            self.scaler = scaler\n",
    "            self.clf = clf\n",
    "        # Predict\n",
    "        # Get most recent factor values (inputs always has the full history)\n",
    "        last_factor_values = get_last_values(inputs)\n",
    "        last_factor_values = self.imputer.transform(last_factor_values)\n",
    "        last_factor_values = self.scaler.transform(last_factor_values)\n",
    "\n",
    "        # Predict the probability for each stock going up \n",
    "        # (column 2 of the output of .predict_proba()) and\n",
    "        # return it via assignment to out.\n",
    "        out[:] = self.clf.predict_proba(last_factor_values)[:, 1]*100"
   ]
  },
  {
   "cell_type": "code",
   "execution_count": null,
   "metadata": {
    "collapsed": false
   },
   "outputs": [],
   "source": [
    "from collections import OrderedDict\n",
    "\n",
    "def make_ml_pipeline(factors, universe, window_length=5, n_fwd_days=2):\n",
    "    factors_pipe = OrderedDict()\n",
    "    # Create returns over last n days.\n",
    "    factors_pipe['Returns'] = Returns(inputs=[USEquityPricing.open],\n",
    "                                      mask=universe, window_length=n_fwd_days)\n",
    "    \n",
    "    for i in [2,3,4,5,7,10,20,60,100,250]:\n",
    "        factors_pipe ['Return'+str(i)] = Returns(inputs=[USEquityPricing.open],\n",
    "                                      mask=universe, window_length=i)    \n",
    "    # Instantiate ranked factors\n",
    "    for name, f in factors.iteritems():\n",
    "        factors_pipe[name] = f().zscore(mask=universe)\n",
    "        \n",
    "    # Create our ML pipeline factor. The window_length will control how much\n",
    "    # lookback the passed in data will have.\n",
    "    factors_pipe['ML'] = ML(inputs=factors_pipe.values(), \n",
    "                            window_length=window_length + 1, \n",
    "                            mask=universe)\n",
    "    factors_pipe['ML_zscore']=factors_pipe['ML'].zscore(mask=universe)\n",
    "    factors_pipe['ML_ranked']=factors_pipe['ML'].rank(mask=universe)\n",
    "    \n",
    "    pipe = Pipeline(screen=universe, columns=factors_pipe)\n",
    "    \n",
    "    return pipe\n",
    "\n",
    "ml_pipe = make_ml_pipeline(factors, universe)"
   ]
  },
  {
   "cell_type": "code",
   "execution_count": null,
   "metadata": {
    "collapsed": false
   },
   "outputs": [],
   "source": [
    "start_timer = time()\n",
    "start = pd.Timestamp(\"2016-08-07\") # Can't choose a much longer time-period or we run out of RAM\n",
    "end = pd.Timestamp(\"2017-08-07\")\n",
    "\n",
    "results = run_pipeline(ml_pipe, start_date=start, end_date=end)\n",
    "\n",
    "end_timer = time()\n",
    "print \"Time to run pipeline %.2f secs\" % (end_timer - start_timer)"
   ]
  },
  {
   "cell_type": "code",
   "execution_count": null,
   "metadata": {
    "collapsed": false
   },
   "outputs": [],
   "source": [
    "results['ML_ranked']"
   ]
  },
  {
   "cell_type": "code",
   "execution_count": null,
   "metadata": {
    "collapsed": true
   },
   "outputs": [],
   "source": [
    "assets = results.index.levels[1]\n",
    "pricing = get_pricing(assets, start, end + pd.Timedelta(days=30), fields=\"open_price\")"
   ]
  },
  {
   "cell_type": "code",
   "execution_count": null,
   "metadata": {
    "collapsed": false
   },
   "outputs": [],
   "source": [
    "pricing.shape"
   ]
  },
  {
   "cell_type": "code",
   "execution_count": null,
   "metadata": {
    "collapsed": false
   },
   "outputs": [],
   "source": [
    "results.columns"
   ]
  },
  {
   "cell_type": "code",
   "execution_count": null,
   "metadata": {
    "collapsed": false
   },
   "outputs": [],
   "source": [
    "results.ML.iloc[1]"
   ]
  },
  {
   "cell_type": "code",
   "execution_count": null,
   "metadata": {
    "collapsed": false
   },
   "outputs": [],
   "source": [
    "results['Asset Growth 3M'].head()"
   ]
  },
  {
   "cell_type": "code",
   "execution_count": null,
   "metadata": {
    "collapsed": false
   },
   "outputs": [],
   "source": [
    "al.tears.create_factor_tear_sheet?"
   ]
  },
  {
   "cell_type": "code",
   "execution_count": null,
   "metadata": {
    "collapsed": false,
    "scrolled": false
   },
   "outputs": [],
   "source": [
    "al.tears.create_factor_tear_sheet(results['ML'], pricing, quantiles=2)"
   ]
  },
  {
   "cell_type": "code",
   "execution_count": null,
   "metadata": {
    "collapsed": true
   },
   "outputs": [],
   "source": []
  },
  {
   "cell_type": "code",
   "execution_count": null,
   "metadata": {
    "collapsed": true
   },
   "outputs": [],
   "source": []
  },
  {
   "cell_type": "code",
   "execution_count": null,
   "metadata": {
    "collapsed": true
   },
   "outputs": [],
   "source": []
  },
  {
   "cell_type": "code",
   "execution_count": null,
   "metadata": {
    "collapsed": true
   },
   "outputs": [],
   "source": []
  }
 ],
 "metadata": {
  "kernelspec": {
   "display_name": "Python 2",
   "language": "python",
   "name": "python2"
  },
  "language_info": {
   "codemirror_mode": {
    "name": "ipython",
    "version": 2
   },
   "file_extension": ".py",
   "mimetype": "text/x-python",
   "name": "python",
   "nbconvert_exporter": "python",
   "pygments_lexer": "ipython2",
   "version": "2.7.12"
  }
 },
 "nbformat": 4,
 "nbformat_minor": 0
}